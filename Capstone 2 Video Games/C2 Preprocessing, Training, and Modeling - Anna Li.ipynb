{
 "cells": [
  {
   "cell_type": "markdown",
   "metadata": {},
   "source": [
    "# Preprocessing, Training, and Modeling "
   ]
  },
  {
   "cell_type": "code",
   "execution_count": 54,
   "metadata": {},
   "outputs": [],
   "source": [
    "#importing modules \n",
    "\n",
    "import numpy as np \n",
    "import matplotlib.pyplot as plt \n",
    "import pandas as pd\n",
    "import seaborn as sns \n",
    "from sklearn.model_selection import train_test_split\n",
    "from sklearn.impute import SimpleImputer\n",
    "from sklearn.preprocessing import StandardScaler\n",
    "from sklearn.linear_model import LinearRegression\n",
    "from sklearn.metrics import mean_squared_error, r2_score, mean_absolute_error\n",
    "import statsmodels.api as sm\n",
    "from statsmodels.graphics.api import abline_plot\n",
    "from sklearn import preprocessing\n",
    "from sklearn.pipeline import make_pipeline"
   ]
  },
  {
   "cell_type": "code",
   "execution_count": 2,
   "metadata": {
    "scrolled": true
   },
   "outputs": [
    {
     "data": {
      "text/html": [
       "<div>\n",
       "<style scoped>\n",
       "    .dataframe tbody tr th:only-of-type {\n",
       "        vertical-align: middle;\n",
       "    }\n",
       "\n",
       "    .dataframe tbody tr th {\n",
       "        vertical-align: top;\n",
       "    }\n",
       "\n",
       "    .dataframe thead th {\n",
       "        text-align: right;\n",
       "    }\n",
       "</style>\n",
       "<table border=\"1\" class=\"dataframe\">\n",
       "  <thead>\n",
       "    <tr style=\"text-align: right;\">\n",
       "      <th></th>\n",
       "      <th>Name</th>\n",
       "      <th>NA_Sales</th>\n",
       "      <th>EU_Sales</th>\n",
       "      <th>JP_Sales</th>\n",
       "      <th>Other_Sales</th>\n",
       "      <th>Global_Sales</th>\n",
       "      <th>Genre</th>\n",
       "      <th>Publisher</th>\n",
       "      <th>platforms</th>\n",
       "      <th>Years_of_Release</th>\n",
       "      <th>...</th>\n",
       "      <th>Fighting</th>\n",
       "      <th>Misc</th>\n",
       "      <th>Platform</th>\n",
       "      <th>Puzzle</th>\n",
       "      <th>Racing</th>\n",
       "      <th>Role-Playing</th>\n",
       "      <th>Shooter</th>\n",
       "      <th>Simulation</th>\n",
       "      <th>Sports</th>\n",
       "      <th>Strategy</th>\n",
       "    </tr>\n",
       "  </thead>\n",
       "  <tbody>\n",
       "    <tr>\n",
       "      <th>0</th>\n",
       "      <td>Wii Sports</td>\n",
       "      <td>41.36</td>\n",
       "      <td>28.96</td>\n",
       "      <td>3.77</td>\n",
       "      <td>8.45</td>\n",
       "      <td>82.54</td>\n",
       "      <td>Sports</td>\n",
       "      <td>Nintendo</td>\n",
       "      <td>1</td>\n",
       "      <td>11.0</td>\n",
       "      <td>...</td>\n",
       "      <td>0</td>\n",
       "      <td>0</td>\n",
       "      <td>0</td>\n",
       "      <td>0</td>\n",
       "      <td>0</td>\n",
       "      <td>0</td>\n",
       "      <td>0</td>\n",
       "      <td>0</td>\n",
       "      <td>1</td>\n",
       "      <td>0</td>\n",
       "    </tr>\n",
       "    <tr>\n",
       "      <th>1</th>\n",
       "      <td>Grand Theft Auto V</td>\n",
       "      <td>24.13</td>\n",
       "      <td>24.14</td>\n",
       "      <td>1.43</td>\n",
       "      <td>8.04</td>\n",
       "      <td>57.75</td>\n",
       "      <td>Action</td>\n",
       "      <td>Take-Two Interactive</td>\n",
       "      <td>7</td>\n",
       "      <td>3.0</td>\n",
       "      <td>...</td>\n",
       "      <td>0</td>\n",
       "      <td>0</td>\n",
       "      <td>0</td>\n",
       "      <td>0</td>\n",
       "      <td>0</td>\n",
       "      <td>0</td>\n",
       "      <td>0</td>\n",
       "      <td>0</td>\n",
       "      <td>0</td>\n",
       "      <td>0</td>\n",
       "    </tr>\n",
       "    <tr>\n",
       "      <th>2</th>\n",
       "      <td>Super Mario Bros.</td>\n",
       "      <td>32.48</td>\n",
       "      <td>4.88</td>\n",
       "      <td>6.96</td>\n",
       "      <td>0.99</td>\n",
       "      <td>45.31</td>\n",
       "      <td>Platform</td>\n",
       "      <td>Nintendo</td>\n",
       "      <td>8</td>\n",
       "      <td>25.0</td>\n",
       "      <td>...</td>\n",
       "      <td>0</td>\n",
       "      <td>0</td>\n",
       "      <td>1</td>\n",
       "      <td>0</td>\n",
       "      <td>0</td>\n",
       "      <td>0</td>\n",
       "      <td>0</td>\n",
       "      <td>0</td>\n",
       "      <td>0</td>\n",
       "      <td>0</td>\n",
       "    </tr>\n",
       "    <tr>\n",
       "      <th>3</th>\n",
       "      <td>Mario Kart Wii</td>\n",
       "      <td>15.68</td>\n",
       "      <td>12.80</td>\n",
       "      <td>3.79</td>\n",
       "      <td>3.29</td>\n",
       "      <td>35.57</td>\n",
       "      <td>Racing</td>\n",
       "      <td>Nintendo</td>\n",
       "      <td>1</td>\n",
       "      <td>9.0</td>\n",
       "      <td>...</td>\n",
       "      <td>0</td>\n",
       "      <td>0</td>\n",
       "      <td>0</td>\n",
       "      <td>0</td>\n",
       "      <td>1</td>\n",
       "      <td>0</td>\n",
       "      <td>0</td>\n",
       "      <td>0</td>\n",
       "      <td>0</td>\n",
       "      <td>0</td>\n",
       "    </tr>\n",
       "    <tr>\n",
       "      <th>4</th>\n",
       "      <td>Wii Sports Resort</td>\n",
       "      <td>15.61</td>\n",
       "      <td>10.95</td>\n",
       "      <td>3.28</td>\n",
       "      <td>2.95</td>\n",
       "      <td>32.78</td>\n",
       "      <td>Sports</td>\n",
       "      <td>Nintendo</td>\n",
       "      <td>1</td>\n",
       "      <td>8.0</td>\n",
       "      <td>...</td>\n",
       "      <td>0</td>\n",
       "      <td>0</td>\n",
       "      <td>0</td>\n",
       "      <td>0</td>\n",
       "      <td>0</td>\n",
       "      <td>0</td>\n",
       "      <td>0</td>\n",
       "      <td>0</td>\n",
       "      <td>1</td>\n",
       "      <td>0</td>\n",
       "    </tr>\n",
       "  </tbody>\n",
       "</table>\n",
       "<p>5 rows × 22 columns</p>\n",
       "</div>"
      ],
      "text/plain": [
       "                 Name  NA_Sales  EU_Sales  JP_Sales  Other_Sales  \\\n",
       "0          Wii Sports     41.36     28.96      3.77         8.45   \n",
       "1  Grand Theft Auto V     24.13     24.14      1.43         8.04   \n",
       "2   Super Mario Bros.     32.48      4.88      6.96         0.99   \n",
       "3      Mario Kart Wii     15.68     12.80      3.79         3.29   \n",
       "4   Wii Sports Resort     15.61     10.95      3.28         2.95   \n",
       "\n",
       "   Global_Sales     Genre             Publisher  platforms  Years_of_Release  \\\n",
       "0         82.54    Sports              Nintendo          1              11.0   \n",
       "1         57.75    Action  Take-Two Interactive          7               3.0   \n",
       "2         45.31  Platform              Nintendo          8              25.0   \n",
       "3         35.57    Racing              Nintendo          1               9.0   \n",
       "4         32.78    Sports              Nintendo          1               8.0   \n",
       "\n",
       "   ...  Fighting  Misc  Platform  Puzzle  Racing  Role-Playing  Shooter  \\\n",
       "0  ...         0     0         0       0       0             0        0   \n",
       "1  ...         0     0         0       0       0             0        0   \n",
       "2  ...         0     0         1       0       0             0        0   \n",
       "3  ...         0     0         0       0       1             0        0   \n",
       "4  ...         0     0         0       0       0             0        0   \n",
       "\n",
       "   Simulation  Sports  Strategy  \n",
       "0           0       1         0  \n",
       "1           0       0         0  \n",
       "2           0       0         0  \n",
       "3           0       0         0  \n",
       "4           0       1         0  \n",
       "\n",
       "[5 rows x 22 columns]"
      ]
     },
     "execution_count": 2,
     "metadata": {},
     "output_type": "execute_result"
    }
   ],
   "source": [
    "# loading into the dataframe \n",
    "\n",
    "df = pd.read_csv('preprocessing.csv')\n",
    "df.head()"
   ]
  },
  {
   "cell_type": "code",
   "execution_count": 3,
   "metadata": {},
   "outputs": [
    {
     "data": {
      "text/plain": [
       "Index(['Name', 'NA_Sales', 'EU_Sales', 'JP_Sales', 'Other_Sales',\n",
       "       'Global_Sales', 'Genre', 'Publisher', 'platforms', 'Years_of_Release',\n",
       "       'Action', 'Adventure', 'Fighting', 'Misc', 'Platform', 'Puzzle',\n",
       "       'Racing', 'Role-Playing', 'Shooter', 'Simulation', 'Sports',\n",
       "       'Strategy'],\n",
       "      dtype='object')"
      ]
     },
     "execution_count": 3,
     "metadata": {},
     "output_type": "execute_result"
    }
   ],
   "source": [
    "df.columns"
   ]
  },
  {
   "cell_type": "markdown",
   "metadata": {},
   "source": [
    "# Multiple Linear Regression Model "
   ]
  },
  {
   "cell_type": "code",
   "execution_count": 4,
   "metadata": {},
   "outputs": [],
   "source": [
    "# defining variables \n",
    "\n",
    "X0 = df[['NA_Sales', 'EU_Sales', 'JP_Sales', 'Other_Sales','platforms', 'Years_of_Release',\n",
    "       'Action', 'Adventure', 'Fighting', 'Misc', 'Platform', 'Puzzle',\n",
    "       'Racing', 'Role-Playing', 'Shooter', 'Simulation', 'Sports',\n",
    "       'Strategy']]\n",
    "X1 = df[['EU_Sales', 'JP_Sales', 'Other_Sales', 'platforms', 'Years_of_Release',\n",
    "       'Action', 'Adventure', 'Fighting', 'Misc', 'Platform', 'Puzzle',\n",
    "       'Racing', 'Role-Playing', 'Shooter', 'Simulation', 'Sports',\n",
    "       'Strategy']]\n",
    "X2 = df[['NA_Sales', 'JP_Sales', 'Other_Sales', 'platforms', 'Years_of_Release',\n",
    "       'Action', 'Adventure', 'Fighting', 'Misc', 'Platform', 'Puzzle',\n",
    "       'Racing', 'Role-Playing', 'Shooter', 'Simulation', 'Sports',\n",
    "       'Strategy']]\n",
    "X3 = df[['EU_Sales', 'NA_Sales', 'Other_Sales', 'platforms', 'Years_of_Release',\n",
    "       'Action', 'Adventure', 'Fighting', 'Misc', 'Platform', 'Puzzle',\n",
    "       'Racing', 'Role-Playing', 'Shooter', 'Simulation', 'Sports',\n",
    "       'Strategy']]\n",
    "X4 = df[['EU_Sales', 'NA_Sales', 'JP_Sales', 'platforms', 'Years_of_Release',\n",
    "       'Action', 'Adventure', 'Fighting', 'Misc', 'Platform', 'Puzzle',\n",
    "       'Racing', 'Role-Playing', 'Shooter', 'Simulation', 'Sports',\n",
    "       'Strategy']]\n",
    "\n",
    "y0 = df['Global_Sales']\n",
    "y1 = df['NA_Sales']\n",
    "y2 = df['EU_Sales']\n",
    "y3 = df['JP_Sales']\n",
    "y4 = df['Other_Sales']"
   ]
  },
  {
   "cell_type": "code",
   "execution_count": 5,
   "metadata": {},
   "outputs": [
    {
     "name": "stdout",
     "output_type": "stream",
     "text": [
      "(4367, 18) (4367,) (1872, 18) (1872,)\n"
     ]
    }
   ],
   "source": [
    "X0_train, X0_test, y0_train, y0_test = train_test_split(X0, y0, test_size = 0.3, random_state=2)\n",
    "print(X0_train.shape, y0_train.shape, X0_test.shape, y0_test.shape)"
   ]
  },
  {
   "cell_type": "code",
   "execution_count": 56,
   "metadata": {},
   "outputs": [
    {
     "data": {
      "text/plain": [
       "0.9999939719943663"
      ]
     },
     "execution_count": 56,
     "metadata": {},
     "output_type": "execute_result"
    }
   ],
   "source": [
    "lr = LinearRegression()\n",
    "pipe = make_pipeline(StandardScaler(), LinearRegression())\n",
    "model0 = pipe.fit(X0_train, y0_train)\n",
    "y0_pred = model0.predict(X0_test)\n",
    "\n",
    "model0.score(X0_train, y0_train)"
   ]
  },
  {
   "cell_type": "code",
   "execution_count": 57,
   "metadata": {},
   "outputs": [
    {
     "data": {
      "text/plain": [
       "Text(0.5, 0, 'Actual Global Sales')"
      ]
     },
     "execution_count": 57,
     "metadata": {},
     "output_type": "execute_result"
    },
    {
     "data": {
      "image/png": "[encoded data removed]",
      "text/plain": [
       "<Figure size 432x288 with 1 Axes>"
      ]
     },
     "metadata": {
      "needs_background": "light"
     },
     "output_type": "display_data"
    }
   ],
   "source": [
    "plt.plot(y0_test, y0_pred, '.', color='pink')\n",
    "plt.plot([x for x in range(0,35)],[x for x in range(0,35)], color='black')\n",
    "\n",
    "plt.title('Predicted vs Actual Global Sales Values')\n",
    "plt.ylabel('Predicted Global Sales')\n",
    "plt.xlabel('Actual Global Sales')\n"
   ]
  },
  {
   "cell_type": "code",
   "execution_count": 59,
   "metadata": {},
   "outputs": [
    {
     "name": "stdout",
     "output_type": "stream",
     "text": [
      "Coefficients: \n",
      " [1.55438874e+00 9.64237358e-01 3.88624538e-01 3.37790407e-01\n",
      " 7.75888246e-05 1.97203138e-05 3.14987170e+10 2.01843847e+10\n",
      " 1.82387289e+10 2.20574588e+10 1.90475828e+10 1.73824864e+10\n",
      " 2.26065858e+10 2.60383289e+10 2.31646251e+10 2.06421467e+10\n",
      " 2.60154807e+10 1.85749918e+10]\n"
     ]
    }
   ],
   "source": [
    "print('Coefficients: \\n', pipe['linearregression'].coef_)"
   ]
  },
  {
   "cell_type": "code",
   "execution_count": 60,
   "metadata": {},
   "outputs": [
    {
     "name": "stdout",
     "output_type": "stream",
     "text": [
      "Mean squared error: 0.00\n"
     ]
    }
   ],
   "source": [
    "print('Mean squared error: %.2f'\n",
    "      % mean_squared_error(y0_test, y0_pred))"
   ]
  },
  {
   "cell_type": "code",
   "execution_count": 61,
   "metadata": {},
   "outputs": [
    {
     "name": "stdout",
     "output_type": "stream",
     "text": [
      "Mean absolute error: 0.00\n"
     ]
    }
   ],
   "source": [
    "print('Mean absolute error: %.2f'\n",
    "      % mean_absolute_error(y0_test, y0_pred))"
   ]
  },
  {
   "cell_type": "code",
   "execution_count": 62,
   "metadata": {},
   "outputs": [
    {
     "data": {
      "text/html": [
       "<div>\n",
       "<style scoped>\n",
       "    .dataframe tbody tr th:only-of-type {\n",
       "        vertical-align: middle;\n",
       "    }\n",
       "\n",
       "    .dataframe tbody tr th {\n",
       "        vertical-align: top;\n",
       "    }\n",
       "\n",
       "    .dataframe thead th {\n",
       "        text-align: right;\n",
       "    }\n",
       "</style>\n",
       "<table border=\"1\" class=\"dataframe\">\n",
       "  <thead>\n",
       "    <tr style=\"text-align: right;\">\n",
       "      <th></th>\n",
       "      <th>Features</th>\n",
       "      <th>Coefficients</th>\n",
       "    </tr>\n",
       "  </thead>\n",
       "  <tbody>\n",
       "    <tr>\n",
       "      <th>0</th>\n",
       "      <td>NA_Sales</td>\n",
       "      <td>1.554389e+00</td>\n",
       "    </tr>\n",
       "    <tr>\n",
       "      <th>1</th>\n",
       "      <td>EU_Sales</td>\n",
       "      <td>9.642374e-01</td>\n",
       "    </tr>\n",
       "    <tr>\n",
       "      <th>2</th>\n",
       "      <td>JP_Sales</td>\n",
       "      <td>3.886245e-01</td>\n",
       "    </tr>\n",
       "    <tr>\n",
       "      <th>3</th>\n",
       "      <td>Other_Sales</td>\n",
       "      <td>3.377904e-01</td>\n",
       "    </tr>\n",
       "    <tr>\n",
       "      <th>4</th>\n",
       "      <td>platforms</td>\n",
       "      <td>7.758882e-05</td>\n",
       "    </tr>\n",
       "    <tr>\n",
       "      <th>5</th>\n",
       "      <td>Years_of_Release</td>\n",
       "      <td>1.972031e-05</td>\n",
       "    </tr>\n",
       "    <tr>\n",
       "      <th>6</th>\n",
       "      <td>Action</td>\n",
       "      <td>3.149872e+10</td>\n",
       "    </tr>\n",
       "    <tr>\n",
       "      <th>7</th>\n",
       "      <td>Adventure</td>\n",
       "      <td>2.018438e+10</td>\n",
       "    </tr>\n",
       "    <tr>\n",
       "      <th>8</th>\n",
       "      <td>Fighting</td>\n",
       "      <td>1.823873e+10</td>\n",
       "    </tr>\n",
       "    <tr>\n",
       "      <th>9</th>\n",
       "      <td>Misc</td>\n",
       "      <td>2.205746e+10</td>\n",
       "    </tr>\n",
       "    <tr>\n",
       "      <th>10</th>\n",
       "      <td>Platform</td>\n",
       "      <td>1.904758e+10</td>\n",
       "    </tr>\n",
       "    <tr>\n",
       "      <th>11</th>\n",
       "      <td>Puzzle</td>\n",
       "      <td>1.738249e+10</td>\n",
       "    </tr>\n",
       "    <tr>\n",
       "      <th>12</th>\n",
       "      <td>Racing</td>\n",
       "      <td>2.260659e+10</td>\n",
       "    </tr>\n",
       "    <tr>\n",
       "      <th>13</th>\n",
       "      <td>Role-Playing</td>\n",
       "      <td>2.603833e+10</td>\n",
       "    </tr>\n",
       "    <tr>\n",
       "      <th>14</th>\n",
       "      <td>Shooter</td>\n",
       "      <td>2.316463e+10</td>\n",
       "    </tr>\n",
       "    <tr>\n",
       "      <th>15</th>\n",
       "      <td>Simulation</td>\n",
       "      <td>2.064215e+10</td>\n",
       "    </tr>\n",
       "    <tr>\n",
       "      <th>16</th>\n",
       "      <td>Sports</td>\n",
       "      <td>2.601548e+10</td>\n",
       "    </tr>\n",
       "    <tr>\n",
       "      <th>17</th>\n",
       "      <td>Strategy</td>\n",
       "      <td>1.857499e+10</td>\n",
       "    </tr>\n",
       "  </tbody>\n",
       "</table>\n",
       "</div>"
      ],
      "text/plain": [
       "            Features  Coefficients\n",
       "0           NA_Sales  1.554389e+00\n",
       "1           EU_Sales  9.642374e-01\n",
       "2           JP_Sales  3.886245e-01\n",
       "3        Other_Sales  3.377904e-01\n",
       "4          platforms  7.758882e-05\n",
       "5   Years_of_Release  1.972031e-05\n",
       "6             Action  3.149872e+10\n",
       "7          Adventure  2.018438e+10\n",
       "8           Fighting  1.823873e+10\n",
       "9               Misc  2.205746e+10\n",
       "10          Platform  1.904758e+10\n",
       "11            Puzzle  1.738249e+10\n",
       "12            Racing  2.260659e+10\n",
       "13      Role-Playing  2.603833e+10\n",
       "14           Shooter  2.316463e+10\n",
       "15        Simulation  2.064215e+10\n",
       "16            Sports  2.601548e+10\n",
       "17          Strategy  1.857499e+10"
      ]
     },
     "execution_count": 62,
     "metadata": {},
     "output_type": "execute_result"
    }
   ],
   "source": [
    "X0_col = ['NA_Sales', 'EU_Sales', 'JP_Sales', 'Other_Sales','platforms', 'Years_of_Release',\n",
    "       'Action', 'Adventure', 'Fighting', 'Misc', 'Platform', 'Puzzle',\n",
    "       'Racing', 'Role-Playing', 'Shooter', 'Simulation', 'Sports',\n",
    "       'Strategy']\n",
    "coef = pipe['linearregression'].coef_\n",
    "\n",
    "tuples = list(zip(X0_col, coef))\n",
    "coef_df = pd.DataFrame(tuples, columns=['Features', 'Coefficients'])\n",
    "coef_df"
   ]
  },
  {
   "cell_type": "markdown",
   "metadata": {},
   "source": [
    "## North America Sales "
   ]
  },
  {
   "cell_type": "code",
   "execution_count": 12,
   "metadata": {},
   "outputs": [
    {
     "name": "stdout",
     "output_type": "stream",
     "text": [
      "(4367, 17) (4367,) (1872, 17) (1872,)\n"
     ]
    }
   ],
   "source": [
    "X1_train, X1_test, y1_train, y1_test = train_test_split(X1, y1, test_size = 0.3, random_state=2)\n",
    "print(X1_train.shape, y1_train.shape, X1_test.shape, y1_test.shape)"
   ]
  },
  {
   "cell_type": "code",
   "execution_count": 63,
   "metadata": {},
   "outputs": [],
   "source": [
    "modelNA = pipe.fit(X1_train, y1_train)\n",
    "y1_pred = modelNA.predict(X1_test)"
   ]
  },
  {
   "cell_type": "code",
   "execution_count": 64,
   "metadata": {},
   "outputs": [
    {
     "data": {
      "text/plain": [
       "Text(0.5, 0, 'Actual North America Sales')"
      ]
     },
     "execution_count": 64,
     "metadata": {},
     "output_type": "execute_result"
    },
    {
     "data": {
      "image/png": "[encoded data removed]",
      "text/plain": [
       "<Figure size 432x288 with 1 Axes>"
      ]
     },
     "metadata": {
      "needs_background": "light"
     },
     "output_type": "display_data"
    }
   ],
   "source": [
    "plt.plot(y1_test, y1_pred, '.', color='red')\n",
    "plt.plot([x for x in range(0,17)],[x for x in range(0,17)], color='black')\n",
    "\n",
    "plt.title('Predicted vs Actual North America Sales Values')\n",
    "plt.ylabel('Predicted North America Sales')\n",
    "plt.xlabel('Actual North America Sales')"
   ]
  },
  {
   "cell_type": "code",
   "execution_count": 65,
   "metadata": {},
   "outputs": [
    {
     "name": "stdout",
     "output_type": "stream",
     "text": [
      "coefficient of determination: 0.6687779883271243\n"
     ]
    }
   ],
   "source": [
    "r_sq = modelNA.score(X1,y1)\n",
    "print('coefficient of determination:', r_sq)"
   ]
  },
  {
   "cell_type": "markdown",
   "metadata": {},
   "source": [
    "The R-Squared coefficient tells us that this model explains about 67% variation from the mean. "
   ]
  },
  {
   "cell_type": "code",
   "execution_count": 68,
   "metadata": {},
   "outputs": [
    {
     "name": "stdout",
     "output_type": "stream",
     "text": [
      "intercept: 0.5513833166692422\n"
     ]
    }
   ],
   "source": [
    "print('intercept:', modelNA['linearregression'].intercept_)"
   ]
  },
  {
   "cell_type": "code",
   "execution_count": 69,
   "metadata": {},
   "outputs": [
    {
     "name": "stdout",
     "output_type": "stream",
     "text": [
      "Mean absolute error: 0.33\n"
     ]
    }
   ],
   "source": [
    "print('Mean absolute error: %.2f'\n",
    "      % mean_absolute_error(y1_test, y1_pred))"
   ]
  },
  {
   "cell_type": "code",
   "execution_count": 71,
   "metadata": {},
   "outputs": [
    {
     "name": "stdout",
     "output_type": "stream",
     "text": [
      "Coefficients: [8.16075695e-01 1.95559885e-01 3.80940685e-01 9.91195280e-02\n",
      " 9.72995104e-02 1.00207954e+13 6.42132789e+12 5.80234969e+12\n",
      " 7.01721540e+12 6.05967315e+12 5.52995032e+12 7.19191105e+12\n",
      " 8.28366331e+12 7.36944202e+12 6.56695728e+12 8.27639455e+12\n",
      " 5.90932616e+12]\n"
     ]
    }
   ],
   "source": [
    "print('Coefficients:', modelNA['linearregression'].coef_)"
   ]
  },
  {
   "cell_type": "code",
   "execution_count": 73,
   "metadata": {},
   "outputs": [
    {
     "data": {
      "text/html": [
       "<div>\n",
       "<style scoped>\n",
       "    .dataframe tbody tr th:only-of-type {\n",
       "        vertical-align: middle;\n",
       "    }\n",
       "\n",
       "    .dataframe tbody tr th {\n",
       "        vertical-align: top;\n",
       "    }\n",
       "\n",
       "    .dataframe thead th {\n",
       "        text-align: right;\n",
       "    }\n",
       "</style>\n",
       "<table border=\"1\" class=\"dataframe\">\n",
       "  <thead>\n",
       "    <tr style=\"text-align: right;\">\n",
       "      <th></th>\n",
       "      <th>Features</th>\n",
       "      <th>Coefficients</th>\n",
       "    </tr>\n",
       "  </thead>\n",
       "  <tbody>\n",
       "    <tr>\n",
       "      <th>0</th>\n",
       "      <td>EU_Sales</td>\n",
       "      <td>8.160757e-01</td>\n",
       "    </tr>\n",
       "    <tr>\n",
       "      <th>1</th>\n",
       "      <td>JP_Sales</td>\n",
       "      <td>1.955599e-01</td>\n",
       "    </tr>\n",
       "    <tr>\n",
       "      <th>2</th>\n",
       "      <td>Other_Sales</td>\n",
       "      <td>3.809407e-01</td>\n",
       "    </tr>\n",
       "    <tr>\n",
       "      <th>3</th>\n",
       "      <td>platforms</td>\n",
       "      <td>9.911953e-02</td>\n",
       "    </tr>\n",
       "    <tr>\n",
       "      <th>4</th>\n",
       "      <td>Years_of_Release</td>\n",
       "      <td>9.729951e-02</td>\n",
       "    </tr>\n",
       "    <tr>\n",
       "      <th>5</th>\n",
       "      <td>Action</td>\n",
       "      <td>1.002080e+13</td>\n",
       "    </tr>\n",
       "    <tr>\n",
       "      <th>6</th>\n",
       "      <td>Adventure</td>\n",
       "      <td>6.421328e+12</td>\n",
       "    </tr>\n",
       "    <tr>\n",
       "      <th>7</th>\n",
       "      <td>Fighting</td>\n",
       "      <td>5.802350e+12</td>\n",
       "    </tr>\n",
       "    <tr>\n",
       "      <th>8</th>\n",
       "      <td>Misc</td>\n",
       "      <td>7.017215e+12</td>\n",
       "    </tr>\n",
       "    <tr>\n",
       "      <th>9</th>\n",
       "      <td>Platform</td>\n",
       "      <td>6.059673e+12</td>\n",
       "    </tr>\n",
       "    <tr>\n",
       "      <th>10</th>\n",
       "      <td>Puzzle</td>\n",
       "      <td>5.529950e+12</td>\n",
       "    </tr>\n",
       "    <tr>\n",
       "      <th>11</th>\n",
       "      <td>Racing</td>\n",
       "      <td>7.191911e+12</td>\n",
       "    </tr>\n",
       "    <tr>\n",
       "      <th>12</th>\n",
       "      <td>Role-Playing</td>\n",
       "      <td>8.283663e+12</td>\n",
       "    </tr>\n",
       "    <tr>\n",
       "      <th>13</th>\n",
       "      <td>Shooter</td>\n",
       "      <td>7.369442e+12</td>\n",
       "    </tr>\n",
       "    <tr>\n",
       "      <th>14</th>\n",
       "      <td>Simulation</td>\n",
       "      <td>6.566957e+12</td>\n",
       "    </tr>\n",
       "    <tr>\n",
       "      <th>15</th>\n",
       "      <td>Sports</td>\n",
       "      <td>8.276395e+12</td>\n",
       "    </tr>\n",
       "    <tr>\n",
       "      <th>16</th>\n",
       "      <td>Strategy</td>\n",
       "      <td>5.909326e+12</td>\n",
       "    </tr>\n",
       "  </tbody>\n",
       "</table>\n",
       "</div>"
      ],
      "text/plain": [
       "            Features  Coefficients\n",
       "0           EU_Sales  8.160757e-01\n",
       "1           JP_Sales  1.955599e-01\n",
       "2        Other_Sales  3.809407e-01\n",
       "3          platforms  9.911953e-02\n",
       "4   Years_of_Release  9.729951e-02\n",
       "5             Action  1.002080e+13\n",
       "6          Adventure  6.421328e+12\n",
       "7           Fighting  5.802350e+12\n",
       "8               Misc  7.017215e+12\n",
       "9           Platform  6.059673e+12\n",
       "10            Puzzle  5.529950e+12\n",
       "11            Racing  7.191911e+12\n",
       "12      Role-Playing  8.283663e+12\n",
       "13           Shooter  7.369442e+12\n",
       "14        Simulation  6.566957e+12\n",
       "15            Sports  8.276395e+12\n",
       "16          Strategy  5.909326e+12"
      ]
     },
     "execution_count": 73,
     "metadata": {},
     "output_type": "execute_result"
    }
   ],
   "source": [
    "X1_col = ['EU_Sales', 'JP_Sales', 'Other_Sales', 'platforms', 'Years_of_Release',\n",
    "       'Action', 'Adventure', 'Fighting', 'Misc', 'Platform', 'Puzzle',\n",
    "       'Racing', 'Role-Playing', 'Shooter', 'Simulation', 'Sports',\n",
    "       'Strategy']\n",
    "coef = modelNA['linearregression'].coef_\n",
    "\n",
    "tuples = list(zip(X1_col, coef))\n",
    "coef_df = pd.DataFrame(tuples, columns=['Features', 'Coefficients'])\n",
    "coef_df"
   ]
  },
  {
   "cell_type": "markdown",
   "metadata": {},
   "source": [
    "## Europe Sales"
   ]
  },
  {
   "cell_type": "code",
   "execution_count": 20,
   "metadata": {},
   "outputs": [
    {
     "name": "stdout",
     "output_type": "stream",
     "text": [
      "(4367, 17) (4367,) (1872, 17) (1872,)\n"
     ]
    }
   ],
   "source": [
    "X2_train, X2_test, y2_train, y2_test = train_test_split(X2, y2, test_size = 0.3, random_state=2)\n",
    "print(X2_train.shape, y2_train.shape, X2_test.shape, y2_test.shape)"
   ]
  },
  {
   "cell_type": "code",
   "execution_count": 74,
   "metadata": {},
   "outputs": [],
   "source": [
    "modelEU = pipe.fit(X2_train, y2_train)\n",
    "y2_pred = modelEU.predict(X2_test)"
   ]
  },
  {
   "cell_type": "code",
   "execution_count": 75,
   "metadata": {},
   "outputs": [
    {
     "data": {
      "text/plain": [
       "Text(0.5, 0, 'Actual Europe Sales')"
      ]
     },
     "execution_count": 75,
     "metadata": {},
     "output_type": "execute_result"
    },
    {
     "data": {
      "image/png": "[encoded data removed]",
      "text/plain": [
       "<Figure size 432x288 with 1 Axes>"
      ]
     },
     "metadata": {
      "needs_background": "light"
     },
     "output_type": "display_data"
    }
   ],
   "source": [
    "plt.plot(y2_test, y2_pred, '.', color='cyan')\n",
    "plt.plot([x for x in range(0,17)],[x for x in range(0,17)], color='black')\n",
    "\n",
    "plt.title('Predicted vs Actual Europe Sales Values')\n",
    "plt.ylabel('Predicted Europe Sales')\n",
    "plt.xlabel('Actual Europe Sales')"
   ]
  },
  {
   "cell_type": "code",
   "execution_count": 76,
   "metadata": {},
   "outputs": [
    {
     "name": "stdout",
     "output_type": "stream",
     "text": [
      "coefficient of determination: 0.7366237088609702\n"
     ]
    }
   ],
   "source": [
    "r_sq = modelEU.score(X2,y2)\n",
    "print('coefficient of determination:', r_sq)"
   ]
  },
  {
   "cell_type": "markdown",
   "metadata": {},
   "source": [
    "The R-Squared coefficient tells us that this model explains about 74% variation from the mean. "
   ]
  },
  {
   "cell_type": "code",
   "execution_count": 77,
   "metadata": {},
   "outputs": [
    {
     "name": "stdout",
     "output_type": "stream",
     "text": [
      "intercept: 0.28488307162517496\n"
     ]
    }
   ],
   "source": [
    "print('intercept:', modelEU['linearregression'].intercept_)"
   ]
  },
  {
   "cell_type": "code",
   "execution_count": 78,
   "metadata": {},
   "outputs": [
    {
     "name": "stdout",
     "output_type": "stream",
     "text": [
      "Mean absolute error: 0.15\n"
     ]
    }
   ],
   "source": [
    "print('Mean absolute error: %.2f'\n",
    "      % mean_absolute_error(y2_test, y2_pred))"
   ]
  },
  {
   "cell_type": "code",
   "execution_count": 79,
   "metadata": {},
   "outputs": [
    {
     "name": "stdout",
     "output_type": "stream",
     "text": [
      "slope: [ 2.95177023e-01  6.15265672e-02  5.96123696e-01  2.14119826e-02\n",
      " -2.38077836e-02 -1.46828129e+12 -9.40874973e+11 -8.50180165e+11\n",
      " -1.02818645e+12 -8.87884082e+11 -8.10267277e+11 -1.05378346e+12\n",
      " -1.21375074e+12 -1.07979591e+12 -9.62213091e+11 -1.21268570e+12\n",
      " -8.65854724e+11]\n"
     ]
    }
   ],
   "source": [
    "print('slope:', modelEU['linearregression'].coef_)"
   ]
  },
  {
   "cell_type": "code",
   "execution_count": 81,
   "metadata": {},
   "outputs": [
    {
     "data": {
      "text/html": [
       "<div>\n",
       "<style scoped>\n",
       "    .dataframe tbody tr th:only-of-type {\n",
       "        vertical-align: middle;\n",
       "    }\n",
       "\n",
       "    .dataframe tbody tr th {\n",
       "        vertical-align: top;\n",
       "    }\n",
       "\n",
       "    .dataframe thead th {\n",
       "        text-align: right;\n",
       "    }\n",
       "</style>\n",
       "<table border=\"1\" class=\"dataframe\">\n",
       "  <thead>\n",
       "    <tr style=\"text-align: right;\">\n",
       "      <th></th>\n",
       "      <th>Features</th>\n",
       "      <th>Coefficients</th>\n",
       "    </tr>\n",
       "  </thead>\n",
       "  <tbody>\n",
       "    <tr>\n",
       "      <th>0</th>\n",
       "      <td>NA_Sales</td>\n",
       "      <td>2.951770e-01</td>\n",
       "    </tr>\n",
       "    <tr>\n",
       "      <th>1</th>\n",
       "      <td>JP_Sales</td>\n",
       "      <td>6.152657e-02</td>\n",
       "    </tr>\n",
       "    <tr>\n",
       "      <th>2</th>\n",
       "      <td>Other_Sales</td>\n",
       "      <td>5.961237e-01</td>\n",
       "    </tr>\n",
       "    <tr>\n",
       "      <th>3</th>\n",
       "      <td>platforms</td>\n",
       "      <td>2.141198e-02</td>\n",
       "    </tr>\n",
       "    <tr>\n",
       "      <th>4</th>\n",
       "      <td>Years_of_Release</td>\n",
       "      <td>-2.380778e-02</td>\n",
       "    </tr>\n",
       "    <tr>\n",
       "      <th>5</th>\n",
       "      <td>Action</td>\n",
       "      <td>-1.468281e+12</td>\n",
       "    </tr>\n",
       "    <tr>\n",
       "      <th>6</th>\n",
       "      <td>Adventure</td>\n",
       "      <td>-9.408750e+11</td>\n",
       "    </tr>\n",
       "    <tr>\n",
       "      <th>7</th>\n",
       "      <td>Fighting</td>\n",
       "      <td>-8.501802e+11</td>\n",
       "    </tr>\n",
       "    <tr>\n",
       "      <th>8</th>\n",
       "      <td>Misc</td>\n",
       "      <td>-1.028186e+12</td>\n",
       "    </tr>\n",
       "    <tr>\n",
       "      <th>9</th>\n",
       "      <td>Platform</td>\n",
       "      <td>-8.878841e+11</td>\n",
       "    </tr>\n",
       "    <tr>\n",
       "      <th>10</th>\n",
       "      <td>Puzzle</td>\n",
       "      <td>-8.102673e+11</td>\n",
       "    </tr>\n",
       "    <tr>\n",
       "      <th>11</th>\n",
       "      <td>Racing</td>\n",
       "      <td>-1.053783e+12</td>\n",
       "    </tr>\n",
       "    <tr>\n",
       "      <th>12</th>\n",
       "      <td>Role-Playing</td>\n",
       "      <td>-1.213751e+12</td>\n",
       "    </tr>\n",
       "    <tr>\n",
       "      <th>13</th>\n",
       "      <td>Shooter</td>\n",
       "      <td>-1.079796e+12</td>\n",
       "    </tr>\n",
       "    <tr>\n",
       "      <th>14</th>\n",
       "      <td>Simulation</td>\n",
       "      <td>-9.622131e+11</td>\n",
       "    </tr>\n",
       "    <tr>\n",
       "      <th>15</th>\n",
       "      <td>Sports</td>\n",
       "      <td>-1.212686e+12</td>\n",
       "    </tr>\n",
       "    <tr>\n",
       "      <th>16</th>\n",
       "      <td>Strategy</td>\n",
       "      <td>-8.658547e+11</td>\n",
       "    </tr>\n",
       "  </tbody>\n",
       "</table>\n",
       "</div>"
      ],
      "text/plain": [
       "            Features  Coefficients\n",
       "0           NA_Sales  2.951770e-01\n",
       "1           JP_Sales  6.152657e-02\n",
       "2        Other_Sales  5.961237e-01\n",
       "3          platforms  2.141198e-02\n",
       "4   Years_of_Release -2.380778e-02\n",
       "5             Action -1.468281e+12\n",
       "6          Adventure -9.408750e+11\n",
       "7           Fighting -8.501802e+11\n",
       "8               Misc -1.028186e+12\n",
       "9           Platform -8.878841e+11\n",
       "10            Puzzle -8.102673e+11\n",
       "11            Racing -1.053783e+12\n",
       "12      Role-Playing -1.213751e+12\n",
       "13           Shooter -1.079796e+12\n",
       "14        Simulation -9.622131e+11\n",
       "15            Sports -1.212686e+12\n",
       "16          Strategy -8.658547e+11"
      ]
     },
     "execution_count": 81,
     "metadata": {},
     "output_type": "execute_result"
    }
   ],
   "source": [
    "X2_col = ['NA_Sales', 'JP_Sales', 'Other_Sales', 'platforms', 'Years_of_Release',\n",
    "       'Action', 'Adventure', 'Fighting', 'Misc', 'Platform', 'Puzzle',\n",
    "       'Racing', 'Role-Playing', 'Shooter', 'Simulation', 'Sports',\n",
    "       'Strategy']\n",
    "coef = modelEU['linearregression'].coef_\n",
    "\n",
    "tuples = list(zip(X2_col, coef))\n",
    "coef_df = pd.DataFrame(tuples, columns=['Features', 'Coefficients'])\n",
    "coef_df"
   ]
  },
  {
   "cell_type": "markdown",
   "metadata": {},
   "source": [
    "## Japan Sales"
   ]
  },
  {
   "cell_type": "code",
   "execution_count": 82,
   "metadata": {},
   "outputs": [
    {
     "name": "stdout",
     "output_type": "stream",
     "text": [
      "(4367, 17) (4367,) (1872, 17) (1872,)\n"
     ]
    }
   ],
   "source": [
    "X3_train, X3_test, y3_train, y3_test = train_test_split(X3, y3, test_size = 0.3, random_state=2)\n",
    "print(X3_train.shape, y3_train.shape, X3_test.shape, y3_test.shape)"
   ]
  },
  {
   "cell_type": "code",
   "execution_count": 84,
   "metadata": {},
   "outputs": [],
   "source": [
    "modelJP = pipe.fit(X3_train, y3_train)\n",
    "y3_pred = modelJP.predict(X3_test)"
   ]
  },
  {
   "cell_type": "code",
   "execution_count": 85,
   "metadata": {},
   "outputs": [
    {
     "data": {
      "text/plain": [
       "Text(0.5, 0, 'Actual Japan Sales')"
      ]
     },
     "execution_count": 85,
     "metadata": {},
     "output_type": "execute_result"
    },
    {
     "data": {
      "image/png": "[encoded data removed]",
      "text/plain": [
       "<Figure size 432x288 with 1 Axes>"
      ]
     },
     "metadata": {
      "needs_background": "light"
     },
     "output_type": "display_data"
    }
   ],
   "source": [
    "plt.plot(y3_test, y3_pred, '.', color='m')\n",
    "plt.plot([x for x in range(0,5)],[x for x in range(0,5)], color='black')\n",
    "\n",
    "plt.title('Predicted vs Actual Japan Sales Values')\n",
    "plt.ylabel('Predicted Japan Sales')\n",
    "plt.xlabel('Actual Japan Sales')"
   ]
  },
  {
   "cell_type": "code",
   "execution_count": 86,
   "metadata": {},
   "outputs": [
    {
     "name": "stdout",
     "output_type": "stream",
     "text": [
      "coefficient of determination: 0.2387914570030002\n"
     ]
    }
   ],
   "source": [
    "r_sq = modelJP.score(X3,y3)\n",
    "print('coefficient of determination:', r_sq)"
   ]
  },
  {
   "cell_type": "markdown",
   "metadata": {},
   "source": [
    "The R-Squared coefficient tells us that this model explains about 24% variation from the mean. "
   ]
  },
  {
   "cell_type": "code",
   "execution_count": 88,
   "metadata": {},
   "outputs": [
    {
     "name": "stdout",
     "output_type": "stream",
     "text": [
      "intercept: 0.10666717815848467\n"
     ]
    }
   ],
   "source": [
    "print('intercept:', modelJP['linearregression'].intercept_)"
   ]
  },
  {
   "cell_type": "code",
   "execution_count": 89,
   "metadata": {},
   "outputs": [
    {
     "name": "stdout",
     "output_type": "stream",
     "text": [
      "Mean absolute error: 0.16\n"
     ]
    }
   ],
   "source": [
    "print('Mean absolute error: %.2f'\n",
    "      % mean_absolute_error(y3_test, y3_pred))"
   ]
  },
  {
   "cell_type": "code",
   "execution_count": 34,
   "metadata": {},
   "outputs": [
    {
     "name": "stdout",
     "output_type": "stream",
     "text": [
      "slope: [ 0.10726687  0.07694802 -0.14752456 -0.00593442  0.00756312 -0.02684884\n",
      " -0.01897739 -0.00841598 -0.0426635   0.11189946  0.04886256 -0.0390069\n",
      "  0.16947584 -0.10131921  0.02195794 -0.07486889 -0.04009509]\n"
     ]
    }
   ],
   "source": [
    "print('slope:', modelJP.coef_)"
   ]
  },
  {
   "cell_type": "code",
   "execution_count": 90,
   "metadata": {},
   "outputs": [
    {
     "data": {
      "text/html": [
       "<div>\n",
       "<style scoped>\n",
       "    .dataframe tbody tr th:only-of-type {\n",
       "        vertical-align: middle;\n",
       "    }\n",
       "\n",
       "    .dataframe tbody tr th {\n",
       "        vertical-align: top;\n",
       "    }\n",
       "\n",
       "    .dataframe thead th {\n",
       "        text-align: right;\n",
       "    }\n",
       "</style>\n",
       "<table border=\"1\" class=\"dataframe\">\n",
       "  <thead>\n",
       "    <tr style=\"text-align: right;\">\n",
       "      <th></th>\n",
       "      <th>Features</th>\n",
       "      <th>Coefficients</th>\n",
       "    </tr>\n",
       "  </thead>\n",
       "  <tbody>\n",
       "    <tr>\n",
       "      <th>0</th>\n",
       "      <td>EU_Sales</td>\n",
       "      <td>1.130077e-01</td>\n",
       "    </tr>\n",
       "    <tr>\n",
       "      <th>1</th>\n",
       "      <td>NA_Sales</td>\n",
       "      <td>1.212221e-01</td>\n",
       "    </tr>\n",
       "    <tr>\n",
       "      <th>2</th>\n",
       "      <td>Other_Sales</td>\n",
       "      <td>-4.879564e-02</td>\n",
       "    </tr>\n",
       "    <tr>\n",
       "      <th>3</th>\n",
       "      <td>platforms</td>\n",
       "      <td>3.987560e-03</td>\n",
       "    </tr>\n",
       "    <tr>\n",
       "      <th>4</th>\n",
       "      <td>Years_of_Release</td>\n",
       "      <td>4.112861e-02</td>\n",
       "    </tr>\n",
       "    <tr>\n",
       "      <th>5</th>\n",
       "      <td>Action</td>\n",
       "      <td>2.910106e+13</td>\n",
       "    </tr>\n",
       "    <tr>\n",
       "      <th>6</th>\n",
       "      <td>Adventure</td>\n",
       "      <td>1.864796e+13</td>\n",
       "    </tr>\n",
       "    <tr>\n",
       "      <th>7</th>\n",
       "      <td>Fighting</td>\n",
       "      <td>1.685041e+13</td>\n",
       "    </tr>\n",
       "    <tr>\n",
       "      <th>8</th>\n",
       "      <td>Misc</td>\n",
       "      <td>2.037846e+13</td>\n",
       "    </tr>\n",
       "    <tr>\n",
       "      <th>9</th>\n",
       "      <td>Platform</td>\n",
       "      <td>1.759770e+13</td>\n",
       "    </tr>\n",
       "    <tr>\n",
       "      <th>10</th>\n",
       "      <td>Puzzle</td>\n",
       "      <td>1.605934e+13</td>\n",
       "    </tr>\n",
       "    <tr>\n",
       "      <th>11</th>\n",
       "      <td>Racing</td>\n",
       "      <td>2.088579e+13</td>\n",
       "    </tr>\n",
       "    <tr>\n",
       "      <th>12</th>\n",
       "      <td>Role-Playing</td>\n",
       "      <td>2.405631e+13</td>\n",
       "    </tr>\n",
       "    <tr>\n",
       "      <th>13</th>\n",
       "      <td>Shooter</td>\n",
       "      <td>2.140135e+13</td>\n",
       "    </tr>\n",
       "    <tr>\n",
       "      <th>14</th>\n",
       "      <td>Simulation</td>\n",
       "      <td>1.907088e+13</td>\n",
       "    </tr>\n",
       "    <tr>\n",
       "      <th>15</th>\n",
       "      <td>Sports</td>\n",
       "      <td>2.403520e+13</td>\n",
       "    </tr>\n",
       "    <tr>\n",
       "      <th>16</th>\n",
       "      <td>Strategy</td>\n",
       "      <td>1.716108e+13</td>\n",
       "    </tr>\n",
       "  </tbody>\n",
       "</table>\n",
       "</div>"
      ],
      "text/plain": [
       "            Features  Coefficients\n",
       "0           EU_Sales  1.130077e-01\n",
       "1           NA_Sales  1.212221e-01\n",
       "2        Other_Sales -4.879564e-02\n",
       "3          platforms  3.987560e-03\n",
       "4   Years_of_Release  4.112861e-02\n",
       "5             Action  2.910106e+13\n",
       "6          Adventure  1.864796e+13\n",
       "7           Fighting  1.685041e+13\n",
       "8               Misc  2.037846e+13\n",
       "9           Platform  1.759770e+13\n",
       "10            Puzzle  1.605934e+13\n",
       "11            Racing  2.088579e+13\n",
       "12      Role-Playing  2.405631e+13\n",
       "13           Shooter  2.140135e+13\n",
       "14        Simulation  1.907088e+13\n",
       "15            Sports  2.403520e+13\n",
       "16          Strategy  1.716108e+13"
      ]
     },
     "execution_count": 90,
     "metadata": {},
     "output_type": "execute_result"
    }
   ],
   "source": [
    "X3_col = ['EU_Sales', 'NA_Sales', 'Other_Sales', 'platforms', 'Years_of_Release',\n",
    "       'Action', 'Adventure', 'Fighting', 'Misc', 'Platform', 'Puzzle',\n",
    "       'Racing', 'Role-Playing', 'Shooter', 'Simulation', 'Sports',\n",
    "       'Strategy']\n",
    "coef = modelJP['linearregression'].coef_\n",
    "\n",
    "tuples = list(zip(X3_col, coef))\n",
    "coef_df = pd.DataFrame(tuples, columns=['Features', 'Coefficients'])\n",
    "coef_df"
   ]
  },
  {
   "cell_type": "markdown",
   "metadata": {},
   "source": [
    "## Other Sales"
   ]
  },
  {
   "cell_type": "code",
   "execution_count": 91,
   "metadata": {},
   "outputs": [
    {
     "name": "stdout",
     "output_type": "stream",
     "text": [
      "(4367, 17) (4367,) (1872, 17) (1872,)\n"
     ]
    }
   ],
   "source": [
    "X4_train, X4_test, y4_train, y4_test = train_test_split(X4, y4, test_size = 0.3, random_state=2)\n",
    "print(X4_train.shape, y4_train.shape, X4_test.shape, y4_test.shape)"
   ]
  },
  {
   "cell_type": "code",
   "execution_count": 92,
   "metadata": {},
   "outputs": [],
   "source": [
    "modelOT = pipe.fit(X4_train, y4_train)\n",
    "y4_pred = modelOT.predict(X4_test)"
   ]
  },
  {
   "cell_type": "code",
   "execution_count": 93,
   "metadata": {},
   "outputs": [
    {
     "data": {
      "text/plain": [
       "Text(0.5, 0, 'Actual Other Sales')"
      ]
     },
     "execution_count": 93,
     "metadata": {},
     "output_type": "execute_result"
    },
    {
     "data": {
      "image/png": "[encoded data removed]",
      "text/plain": [
       "<Figure size 432x288 with 1 Axes>"
      ]
     },
     "metadata": {
      "needs_background": "light"
     },
     "output_type": "display_data"
    }
   ],
   "source": [
    "plt.plot(y4_test, y4_pred, '.', color='green')\n",
    "plt.plot([x for x in range(0,5)],[x for x in range(0,5)], color='black')\n",
    "\n",
    "plt.title('Predicted vs Actual Other Sales Values')\n",
    "plt.ylabel('Predicted Other Sales')\n",
    "plt.xlabel('Actual Other Sales')"
   ]
  },
  {
   "cell_type": "code",
   "execution_count": 94,
   "metadata": {},
   "outputs": [
    {
     "name": "stdout",
     "output_type": "stream",
     "text": [
      "coefficient of determination: 0.6807626070150355\n"
     ]
    }
   ],
   "source": [
    "r_sq = modelOT.score(X4,y4)\n",
    "print('coefficient of determination:', r_sq)"
   ]
  },
  {
   "cell_type": "markdown",
   "metadata": {},
   "source": [
    "The R-Squared coefficient tells us that this model explains about 68% variation from the mean. "
   ]
  },
  {
   "cell_type": "code",
   "execution_count": 95,
   "metadata": {},
   "outputs": [
    {
     "name": "stdout",
     "output_type": "stream",
     "text": [
      "intercept: 0.09494085689894881\n"
     ]
    }
   ],
   "source": [
    "print('intercept:', modelOT['linearregression'].intercept_)"
   ]
  },
  {
   "cell_type": "code",
   "execution_count": 96,
   "metadata": {},
   "outputs": [
    {
     "name": "stdout",
     "output_type": "stream",
     "text": [
      "Mean absolute error: 0.05\n"
     ]
    }
   ],
   "source": [
    "print('Mean absolute error: %.2f'\n",
    "      % mean_absolute_error(y4_test, y4_pred))"
   ]
  },
  {
   "cell_type": "code",
   "execution_count": 97,
   "metadata": {},
   "outputs": [
    {
     "name": "stdout",
     "output_type": "stream",
     "text": [
      "slope: [ 2.51986368e-01  5.81406604e-02 -1.25424914e-02  6.54586403e-04\n",
      " -1.80503696e-02  2.15862167e+11  1.38324524e+11  1.24990854e+11\n",
      "  1.51160787e+11  1.30533967e+11  1.19122985e+11  1.54923980e+11\n",
      "  1.78441874e+11  1.58748249e+11  1.41461588e+11  1.78285295e+11\n",
      "  1.27295279e+11]\n"
     ]
    }
   ],
   "source": [
    "print('slope:', modelOT['linearregression'].coef_)"
   ]
  },
  {
   "cell_type": "code",
   "execution_count": 99,
   "metadata": {},
   "outputs": [
    {
     "data": {
      "text/html": [
       "<div>\n",
       "<style scoped>\n",
       "    .dataframe tbody tr th:only-of-type {\n",
       "        vertical-align: middle;\n",
       "    }\n",
       "\n",
       "    .dataframe tbody tr th {\n",
       "        vertical-align: top;\n",
       "    }\n",
       "\n",
       "    .dataframe thead th {\n",
       "        text-align: right;\n",
       "    }\n",
       "</style>\n",
       "<table border=\"1\" class=\"dataframe\">\n",
       "  <thead>\n",
       "    <tr style=\"text-align: right;\">\n",
       "      <th></th>\n",
       "      <th>Features</th>\n",
       "      <th>Coefficients</th>\n",
       "    </tr>\n",
       "  </thead>\n",
       "  <tbody>\n",
       "    <tr>\n",
       "      <th>0</th>\n",
       "      <td>EU_Sales</td>\n",
       "      <td>2.519864e-01</td>\n",
       "    </tr>\n",
       "    <tr>\n",
       "      <th>1</th>\n",
       "      <td>NA_Sales</td>\n",
       "      <td>5.814066e-02</td>\n",
       "    </tr>\n",
       "    <tr>\n",
       "      <th>2</th>\n",
       "      <td>JP_Sales</td>\n",
       "      <td>-1.254249e-02</td>\n",
       "    </tr>\n",
       "    <tr>\n",
       "      <th>3</th>\n",
       "      <td>platforms</td>\n",
       "      <td>6.545864e-04</td>\n",
       "    </tr>\n",
       "    <tr>\n",
       "      <th>4</th>\n",
       "      <td>Years_of_Release</td>\n",
       "      <td>-1.805037e-02</td>\n",
       "    </tr>\n",
       "    <tr>\n",
       "      <th>5</th>\n",
       "      <td>Action</td>\n",
       "      <td>2.158622e+11</td>\n",
       "    </tr>\n",
       "    <tr>\n",
       "      <th>6</th>\n",
       "      <td>Adventure</td>\n",
       "      <td>1.383245e+11</td>\n",
       "    </tr>\n",
       "    <tr>\n",
       "      <th>7</th>\n",
       "      <td>Fighting</td>\n",
       "      <td>1.249909e+11</td>\n",
       "    </tr>\n",
       "    <tr>\n",
       "      <th>8</th>\n",
       "      <td>Misc</td>\n",
       "      <td>1.511608e+11</td>\n",
       "    </tr>\n",
       "    <tr>\n",
       "      <th>9</th>\n",
       "      <td>Platform</td>\n",
       "      <td>1.305340e+11</td>\n",
       "    </tr>\n",
       "    <tr>\n",
       "      <th>10</th>\n",
       "      <td>Puzzle</td>\n",
       "      <td>1.191230e+11</td>\n",
       "    </tr>\n",
       "    <tr>\n",
       "      <th>11</th>\n",
       "      <td>Racing</td>\n",
       "      <td>1.549240e+11</td>\n",
       "    </tr>\n",
       "    <tr>\n",
       "      <th>12</th>\n",
       "      <td>Role-Playing</td>\n",
       "      <td>1.784419e+11</td>\n",
       "    </tr>\n",
       "    <tr>\n",
       "      <th>13</th>\n",
       "      <td>Shooter</td>\n",
       "      <td>1.587482e+11</td>\n",
       "    </tr>\n",
       "    <tr>\n",
       "      <th>14</th>\n",
       "      <td>Simulation</td>\n",
       "      <td>1.414616e+11</td>\n",
       "    </tr>\n",
       "    <tr>\n",
       "      <th>15</th>\n",
       "      <td>Sports</td>\n",
       "      <td>1.782853e+11</td>\n",
       "    </tr>\n",
       "    <tr>\n",
       "      <th>16</th>\n",
       "      <td>Strategy</td>\n",
       "      <td>1.272953e+11</td>\n",
       "    </tr>\n",
       "  </tbody>\n",
       "</table>\n",
       "</div>"
      ],
      "text/plain": [
       "            Features  Coefficients\n",
       "0           EU_Sales  2.519864e-01\n",
       "1           NA_Sales  5.814066e-02\n",
       "2           JP_Sales -1.254249e-02\n",
       "3          platforms  6.545864e-04\n",
       "4   Years_of_Release -1.805037e-02\n",
       "5             Action  2.158622e+11\n",
       "6          Adventure  1.383245e+11\n",
       "7           Fighting  1.249909e+11\n",
       "8               Misc  1.511608e+11\n",
       "9           Platform  1.305340e+11\n",
       "10            Puzzle  1.191230e+11\n",
       "11            Racing  1.549240e+11\n",
       "12      Role-Playing  1.784419e+11\n",
       "13           Shooter  1.587482e+11\n",
       "14        Simulation  1.414616e+11\n",
       "15            Sports  1.782853e+11\n",
       "16          Strategy  1.272953e+11"
      ]
     },
     "execution_count": 99,
     "metadata": {},
     "output_type": "execute_result"
    }
   ],
   "source": [
    "X4_col = ['EU_Sales', 'NA_Sales', 'JP_Sales', 'platforms', 'Years_of_Release',\n",
    "       'Action', 'Adventure', 'Fighting', 'Misc', 'Platform', 'Puzzle',\n",
    "       'Racing', 'Role-Playing', 'Shooter', 'Simulation', 'Sports',\n",
    "       'Strategy']\n",
    "coef = modelOT['linearregression'].coef_\n",
    "\n",
    "tuples = list(zip(X4_col, coef))\n",
    "coef_df = pd.DataFrame(tuples, columns=['Features', 'Coefficients'])\n",
    "coef_df"
   ]
  },
  {
   "cell_type": "markdown",
   "metadata": {},
   "source": [
    "# Multiple Linear Regression Model (OLS)"
   ]
  },
  {
   "cell_type": "code",
   "execution_count": 107,
   "metadata": {},
   "outputs": [],
   "source": [
    "X5 = sm.add_constant(X1)\n",
    "X6 = sm.add_constant(X2)\n",
    "X7 = sm.add_constant(X3)\n",
    "X8 = sm.add_constant(X4)"
   ]
  },
  {
   "cell_type": "markdown",
   "metadata": {},
   "source": [
    "## North America Sales "
   ]
  },
  {
   "cell_type": "code",
   "execution_count": 108,
   "metadata": {},
   "outputs": [
    {
     "name": "stdout",
     "output_type": "stream",
     "text": [
      "(4367, 18) (4367,) (1872, 18) (1872,)\n"
     ]
    }
   ],
   "source": [
    "X5_train, X5_test, y1_train, y1_test = train_test_split(X5, y1, test_size = 0.3, random_state=2)\n",
    "print(X5_train.shape, y1_train.shape, X5_test.shape, y1_test.shape)"
   ]
  },
  {
   "cell_type": "code",
   "execution_count": 109,
   "metadata": {},
   "outputs": [],
   "source": [
    "ols1 = sm.OLS(y1_train, X5_train)\n",
    "ols1_result = ols1.fit()"
   ]
  },
  {
   "cell_type": "code",
   "execution_count": 110,
   "metadata": {},
   "outputs": [
    {
     "data": {
      "text/html": [
       "<table class=\"simpletable\">\n",
       "<caption>OLS Regression Results</caption>\n",
       "<tr>\n",
       "  <th>Dep. Variable:</th>        <td>NA_Sales</td>     <th>  R-squared:         </th> <td>   0.685</td> \n",
       "</tr>\n",
       "<tr>\n",
       "  <th>Model:</th>                   <td>OLS</td>       <th>  Adj. R-squared:    </th> <td>   0.684</td> \n",
       "</tr>\n",
       "<tr>\n",
       "  <th>Method:</th>             <td>Least Squares</td>  <th>  F-statistic:       </th> <td>   591.7</td> \n",
       "</tr>\n",
       "<tr>\n",
       "  <th>Date:</th>             <td>Tue, 13 Jul 2021</td> <th>  Prob (F-statistic):</th>  <td>  0.00</td>  \n",
       "</tr>\n",
       "<tr>\n",
       "  <th>Time:</th>                 <td>16:08:08</td>     <th>  Log-Likelihood:    </th> <td> -5599.5</td> \n",
       "</tr>\n",
       "<tr>\n",
       "  <th>No. Observations:</th>      <td>  4367</td>      <th>  AIC:               </th> <td>1.123e+04</td>\n",
       "</tr>\n",
       "<tr>\n",
       "  <th>Df Residuals:</th>          <td>  4350</td>      <th>  BIC:               </th> <td>1.134e+04</td>\n",
       "</tr>\n",
       "<tr>\n",
       "  <th>Df Model:</th>              <td>    16</td>      <th>                     </th>     <td> </td>    \n",
       "</tr>\n",
       "<tr>\n",
       "  <th>Covariance Type:</th>      <td>nonrobust</td>    <th>                     </th>     <td> </td>    \n",
       "</tr>\n",
       "</table>\n",
       "<table class=\"simpletable\">\n",
       "<tr>\n",
       "          <td></td>            <th>coef</th>     <th>std err</th>      <th>t</th>      <th>P>|t|</th>  <th>[0.025</th>    <th>0.975]</th>  \n",
       "</tr>\n",
       "<tr>\n",
       "  <th>const</th>            <td>   -0.1331</td> <td>    0.029</td> <td>   -4.606</td> <td> 0.000</td> <td>   -0.190</td> <td>   -0.076</td>\n",
       "</tr>\n",
       "<tr>\n",
       "  <th>EU_Sales</th>         <td>    0.8432</td> <td>    0.029</td> <td>   28.775</td> <td> 0.000</td> <td>    0.786</td> <td>    0.901</td>\n",
       "</tr>\n",
       "<tr>\n",
       "  <th>JP_Sales</th>         <td>    0.5055</td> <td>    0.038</td> <td>   13.269</td> <td> 0.000</td> <td>    0.431</td> <td>    0.580</td>\n",
       "</tr>\n",
       "<tr>\n",
       "  <th>Other_Sales</th>      <td>    1.1214</td> <td>    0.081</td> <td>   13.791</td> <td> 0.000</td> <td>    0.962</td> <td>    1.281</td>\n",
       "</tr>\n",
       "<tr>\n",
       "  <th>platforms</th>        <td>    0.0513</td> <td>    0.007</td> <td>    7.087</td> <td> 0.000</td> <td>    0.037</td> <td>    0.066</td>\n",
       "</tr>\n",
       "<tr>\n",
       "  <th>Years_of_Release</th> <td>    0.0156</td> <td>    0.002</td> <td>    7.101</td> <td> 0.000</td> <td>    0.011</td> <td>    0.020</td>\n",
       "</tr>\n",
       "<tr>\n",
       "  <th>Action</th>           <td>   -0.0326</td> <td>    0.032</td> <td>   -1.023</td> <td> 0.306</td> <td>   -0.095</td> <td>    0.030</td>\n",
       "</tr>\n",
       "<tr>\n",
       "  <th>Adventure</th>        <td>   -0.1284</td> <td>    0.050</td> <td>   -2.584</td> <td> 0.010</td> <td>   -0.226</td> <td>   -0.031</td>\n",
       "</tr>\n",
       "<tr>\n",
       "  <th>Fighting</th>         <td>    0.0613</td> <td>    0.055</td> <td>    1.112</td> <td> 0.266</td> <td>   -0.047</td> <td>    0.169</td>\n",
       "</tr>\n",
       "<tr>\n",
       "  <th>Misc</th>             <td>    0.1032</td> <td>    0.045</td> <td>    2.272</td> <td> 0.023</td> <td>    0.014</td> <td>    0.192</td>\n",
       "</tr>\n",
       "<tr>\n",
       "  <th>Platform</th>         <td>    0.1343</td> <td>    0.054</td> <td>    2.505</td> <td> 0.012</td> <td>    0.029</td> <td>    0.239</td>\n",
       "</tr>\n",
       "<tr>\n",
       "  <th>Puzzle</th>           <td>   -0.1082</td> <td>    0.058</td> <td>   -1.876</td> <td> 0.061</td> <td>   -0.221</td> <td>    0.005</td>\n",
       "</tr>\n",
       "<tr>\n",
       "  <th>Racing</th>           <td>   -0.1257</td> <td>    0.045</td> <td>   -2.802</td> <td> 0.005</td> <td>   -0.214</td> <td>   -0.038</td>\n",
       "</tr>\n",
       "<tr>\n",
       "  <th>Role-Playing</th>     <td>   -0.1558</td> <td>    0.039</td> <td>   -4.005</td> <td> 0.000</td> <td>   -0.232</td> <td>   -0.080</td>\n",
       "</tr>\n",
       "<tr>\n",
       "  <th>Shooter</th>          <td>    0.1706</td> <td>    0.044</td> <td>    3.904</td> <td> 0.000</td> <td>    0.085</td> <td>    0.256</td>\n",
       "</tr>\n",
       "<tr>\n",
       "  <th>Simulation</th>       <td>   -0.0768</td> <td>    0.049</td> <td>   -1.581</td> <td> 0.114</td> <td>   -0.172</td> <td>    0.018</td>\n",
       "</tr>\n",
       "<tr>\n",
       "  <th>Sports</th>           <td>    0.1204</td> <td>    0.039</td> <td>    3.105</td> <td> 0.002</td> <td>    0.044</td> <td>    0.196</td>\n",
       "</tr>\n",
       "<tr>\n",
       "  <th>Strategy</th>         <td>   -0.0955</td> <td>    0.054</td> <td>   -1.772</td> <td> 0.076</td> <td>   -0.201</td> <td>    0.010</td>\n",
       "</tr>\n",
       "</table>\n",
       "<table class=\"simpletable\">\n",
       "<tr>\n",
       "  <th>Omnibus:</th>       <td>7077.928</td> <th>  Durbin-Watson:     </th>   <td>   2.003</td>  \n",
       "</tr>\n",
       "<tr>\n",
       "  <th>Prob(Omnibus):</th>  <td> 0.000</td>  <th>  Jarque-Bera (JB):  </th> <td>14605280.080</td>\n",
       "</tr>\n",
       "<tr>\n",
       "  <th>Skew:</th>           <td>10.064</td>  <th>  Prob(JB):          </th>   <td>    0.00</td>  \n",
       "</tr>\n",
       "<tr>\n",
       "  <th>Kurtosis:</th>       <td>285.599</td> <th>  Cond. No.          </th>   <td>1.09e+17</td>  \n",
       "</tr>\n",
       "</table><br/><br/>Notes:<br/>[1] Standard Errors assume that the covariance matrix of the errors is correctly specified.<br/>[2] The smallest eigenvalue is 6.62e-29. This might indicate that there are<br/>strong multicollinearity problems or that the design matrix is singular."
      ],
      "text/plain": [
       "<class 'statsmodels.iolib.summary.Summary'>\n",
       "\"\"\"\n",
       "                            OLS Regression Results                            \n",
       "==============================================================================\n",
       "Dep. Variable:               NA_Sales   R-squared:                       0.685\n",
       "Model:                            OLS   Adj. R-squared:                  0.684\n",
       "Method:                 Least Squares   F-statistic:                     591.7\n",
       "Date:                Tue, 13 Jul 2021   Prob (F-statistic):               0.00\n",
       "Time:                        16:08:08   Log-Likelihood:                -5599.5\n",
       "No. Observations:                4367   AIC:                         1.123e+04\n",
       "Df Residuals:                    4350   BIC:                         1.134e+04\n",
       "Df Model:                          16                                         \n",
       "Covariance Type:            nonrobust                                         \n",
       "====================================================================================\n",
       "                       coef    std err          t      P>|t|      [0.025      0.975]\n",
       "------------------------------------------------------------------------------------\n",
       "const               -0.1331      0.029     -4.606      0.000      -0.190      -0.076\n",
       "EU_Sales             0.8432      0.029     28.775      0.000       0.786       0.901\n",
       "JP_Sales             0.5055      0.038     13.269      0.000       0.431       0.580\n",
       "Other_Sales          1.1214      0.081     13.791      0.000       0.962       1.281\n",
       "platforms            0.0513      0.007      7.087      0.000       0.037       0.066\n",
       "Years_of_Release     0.0156      0.002      7.101      0.000       0.011       0.020\n",
       "Action              -0.0326      0.032     -1.023      0.306      -0.095       0.030\n",
       "Adventure           -0.1284      0.050     -2.584      0.010      -0.226      -0.031\n",
       "Fighting             0.0613      0.055      1.112      0.266      -0.047       0.169\n",
       "Misc                 0.1032      0.045      2.272      0.023       0.014       0.192\n",
       "Platform             0.1343      0.054      2.505      0.012       0.029       0.239\n",
       "Puzzle              -0.1082      0.058     -1.876      0.061      -0.221       0.005\n",
       "Racing              -0.1257      0.045     -2.802      0.005      -0.214      -0.038\n",
       "Role-Playing        -0.1558      0.039     -4.005      0.000      -0.232      -0.080\n",
       "Shooter              0.1706      0.044      3.904      0.000       0.085       0.256\n",
       "Simulation          -0.0768      0.049     -1.581      0.114      -0.172       0.018\n",
       "Sports               0.1204      0.039      3.105      0.002       0.044       0.196\n",
       "Strategy            -0.0955      0.054     -1.772      0.076      -0.201       0.010\n",
       "==============================================================================\n",
       "Omnibus:                     7077.928   Durbin-Watson:                   2.003\n",
       "Prob(Omnibus):                  0.000   Jarque-Bera (JB):         14605280.080\n",
       "Skew:                          10.064   Prob(JB):                         0.00\n",
       "Kurtosis:                     285.599   Cond. No.                     1.09e+17\n",
       "==============================================================================\n",
       "\n",
       "Notes:\n",
       "[1] Standard Errors assume that the covariance matrix of the errors is correctly specified.\n",
       "[2] The smallest eigenvalue is 6.62e-29. This might indicate that there are\n",
       "strong multicollinearity problems or that the design matrix is singular.\n",
       "\"\"\""
      ]
     },
     "execution_count": 110,
     "metadata": {},
     "output_type": "execute_result"
    }
   ],
   "source": [
    "ols1_result.summary()"
   ]
  },
  {
   "cell_type": "markdown",
   "metadata": {},
   "source": [
    "## Europe Sales "
   ]
  },
  {
   "cell_type": "code",
   "execution_count": 111,
   "metadata": {},
   "outputs": [
    {
     "name": "stdout",
     "output_type": "stream",
     "text": [
      "(4367, 18) (4367,) (1872, 18) (1872,)\n"
     ]
    }
   ],
   "source": [
    "X6_train, X6_test, y2_train, y2_test = train_test_split(X6, y2, test_size = 0.3, random_state=2)\n",
    "print(X6_train.shape, y2_train.shape, X6_test.shape, y2_test.shape)"
   ]
  },
  {
   "cell_type": "code",
   "execution_count": 112,
   "metadata": {},
   "outputs": [
    {
     "data": {
      "text/html": [
       "<table class=\"simpletable\">\n",
       "<caption>OLS Regression Results</caption>\n",
       "<tr>\n",
       "  <th>Dep. Variable:</th>        <td>EU_Sales</td>     <th>  R-squared:         </th> <td>   0.816</td>\n",
       "</tr>\n",
       "<tr>\n",
       "  <th>Model:</th>                   <td>OLS</td>       <th>  Adj. R-squared:    </th> <td>   0.815</td>\n",
       "</tr>\n",
       "<tr>\n",
       "  <th>Method:</th>             <td>Least Squares</td>  <th>  F-statistic:       </th> <td>   1205.</td>\n",
       "</tr>\n",
       "<tr>\n",
       "  <th>Date:</th>             <td>Tue, 13 Jul 2021</td> <th>  Prob (F-statistic):</th>  <td>  0.00</td> \n",
       "</tr>\n",
       "<tr>\n",
       "  <th>Time:</th>                 <td>16:08:18</td>     <th>  Log-Likelihood:    </th> <td> -2341.7</td>\n",
       "</tr>\n",
       "<tr>\n",
       "  <th>No. Observations:</th>      <td>  4367</td>      <th>  AIC:               </th> <td>   4717.</td>\n",
       "</tr>\n",
       "<tr>\n",
       "  <th>Df Residuals:</th>          <td>  4350</td>      <th>  BIC:               </th> <td>   4826.</td>\n",
       "</tr>\n",
       "<tr>\n",
       "  <th>Df Model:</th>              <td>    16</td>      <th>                     </th>     <td> </td>   \n",
       "</tr>\n",
       "<tr>\n",
       "  <th>Covariance Type:</th>      <td>nonrobust</td>    <th>                     </th>     <td> </td>   \n",
       "</tr>\n",
       "</table>\n",
       "<table class=\"simpletable\">\n",
       "<tr>\n",
       "          <td></td>            <th>coef</th>     <th>std err</th>      <th>t</th>      <th>P>|t|</th>  <th>[0.025</th>    <th>0.975]</th>  \n",
       "</tr>\n",
       "<tr>\n",
       "  <th>const</th>            <td>    0.0159</td> <td>    0.014</td> <td>    1.154</td> <td> 0.249</td> <td>   -0.011</td> <td>    0.043</td>\n",
       "</tr>\n",
       "<tr>\n",
       "  <th>NA_Sales</th>         <td>    0.1896</td> <td>    0.007</td> <td>   28.775</td> <td> 0.000</td> <td>    0.177</td> <td>    0.203</td>\n",
       "</tr>\n",
       "<tr>\n",
       "  <th>JP_Sales</th>         <td>    0.1585</td> <td>    0.018</td> <td>    8.674</td> <td> 0.000</td> <td>    0.123</td> <td>    0.194</td>\n",
       "</tr>\n",
       "<tr>\n",
       "  <th>Other_Sales</th>      <td>    1.7644</td> <td>    0.029</td> <td>   60.997</td> <td> 0.000</td> <td>    1.708</td> <td>    1.821</td>\n",
       "</tr>\n",
       "<tr>\n",
       "  <th>platforms</th>        <td>    0.0109</td> <td>    0.003</td> <td>    3.145</td> <td> 0.002</td> <td>    0.004</td> <td>    0.018</td>\n",
       "</tr>\n",
       "<tr>\n",
       "  <th>Years_of_Release</th> <td>   -0.0037</td> <td>    0.001</td> <td>   -3.559</td> <td> 0.000</td> <td>   -0.006</td> <td>   -0.002</td>\n",
       "</tr>\n",
       "<tr>\n",
       "  <th>Action</th>           <td>    0.0046</td> <td>    0.015</td> <td>    0.307</td> <td> 0.759</td> <td>   -0.025</td> <td>    0.034</td>\n",
       "</tr>\n",
       "<tr>\n",
       "  <th>Adventure</th>        <td>    0.0363</td> <td>    0.024</td> <td>    1.539</td> <td> 0.124</td> <td>   -0.010</td> <td>    0.083</td>\n",
       "</tr>\n",
       "<tr>\n",
       "  <th>Fighting</th>         <td>   -0.0318</td> <td>    0.026</td> <td>   -1.216</td> <td> 0.224</td> <td>   -0.083</td> <td>    0.019</td>\n",
       "</tr>\n",
       "<tr>\n",
       "  <th>Misc</th>             <td>   -0.0111</td> <td>    0.022</td> <td>   -0.517</td> <td> 0.605</td> <td>   -0.053</td> <td>    0.031</td>\n",
       "</tr>\n",
       "<tr>\n",
       "  <th>Platform</th>         <td>    0.0095</td> <td>    0.025</td> <td>    0.373</td> <td> 0.709</td> <td>   -0.040</td> <td>    0.059</td>\n",
       "</tr>\n",
       "<tr>\n",
       "  <th>Puzzle</th>           <td>    0.0021</td> <td>    0.027</td> <td>    0.076</td> <td> 0.940</td> <td>   -0.052</td> <td>    0.056</td>\n",
       "</tr>\n",
       "<tr>\n",
       "  <th>Racing</th>           <td>    0.0204</td> <td>    0.021</td> <td>    0.959</td> <td> 0.338</td> <td>   -0.021</td> <td>    0.062</td>\n",
       "</tr>\n",
       "<tr>\n",
       "  <th>Role-Playing</th>     <td>   -0.0239</td> <td>    0.018</td> <td>   -1.292</td> <td> 0.196</td> <td>   -0.060</td> <td>    0.012</td>\n",
       "</tr>\n",
       "<tr>\n",
       "  <th>Shooter</th>          <td>    0.0101</td> <td>    0.021</td> <td>    0.486</td> <td> 0.627</td> <td>   -0.031</td> <td>    0.051</td>\n",
       "</tr>\n",
       "<tr>\n",
       "  <th>Simulation</th>       <td>    0.0211</td> <td>    0.023</td> <td>    0.916</td> <td> 0.360</td> <td>   -0.024</td> <td>    0.066</td>\n",
       "</tr>\n",
       "<tr>\n",
       "  <th>Sports</th>           <td>   -0.0513</td> <td>    0.018</td> <td>   -2.789</td> <td> 0.005</td> <td>   -0.087</td> <td>   -0.015</td>\n",
       "</tr>\n",
       "<tr>\n",
       "  <th>Strategy</th>         <td>    0.0299</td> <td>    0.026</td> <td>    1.169</td> <td> 0.242</td> <td>   -0.020</td> <td>    0.080</td>\n",
       "</tr>\n",
       "</table>\n",
       "<table class=\"simpletable\">\n",
       "<tr>\n",
       "  <th>Omnibus:</th>       <td>6247.218</td> <th>  Durbin-Watson:     </th>   <td>   2.005</td>  \n",
       "</tr>\n",
       "<tr>\n",
       "  <th>Prob(Omnibus):</th>  <td> 0.000</td>  <th>  Jarque-Bera (JB):  </th> <td>22636572.137</td>\n",
       "</tr>\n",
       "<tr>\n",
       "  <th>Skew:</th>           <td>-7.465</td>  <th>  Prob(JB):          </th>   <td>    0.00</td>  \n",
       "</tr>\n",
       "<tr>\n",
       "  <th>Kurtosis:</th>       <td>355.395</td> <th>  Cond. No.          </th>   <td>7.27e+16</td>  \n",
       "</tr>\n",
       "</table><br/><br/>Notes:<br/>[1] Standard Errors assume that the covariance matrix of the errors is correctly specified.<br/>[2] The smallest eigenvalue is 1.49e-28. This might indicate that there are<br/>strong multicollinearity problems or that the design matrix is singular."
      ],
      "text/plain": [
       "<class 'statsmodels.iolib.summary.Summary'>\n",
       "\"\"\"\n",
       "                            OLS Regression Results                            \n",
       "==============================================================================\n",
       "Dep. Variable:               EU_Sales   R-squared:                       0.816\n",
       "Model:                            OLS   Adj. R-squared:                  0.815\n",
       "Method:                 Least Squares   F-statistic:                     1205.\n",
       "Date:                Tue, 13 Jul 2021   Prob (F-statistic):               0.00\n",
       "Time:                        16:08:18   Log-Likelihood:                -2341.7\n",
       "No. Observations:                4367   AIC:                             4717.\n",
       "Df Residuals:                    4350   BIC:                             4826.\n",
       "Df Model:                          16                                         \n",
       "Covariance Type:            nonrobust                                         \n",
       "====================================================================================\n",
       "                       coef    std err          t      P>|t|      [0.025      0.975]\n",
       "------------------------------------------------------------------------------------\n",
       "const                0.0159      0.014      1.154      0.249      -0.011       0.043\n",
       "NA_Sales             0.1896      0.007     28.775      0.000       0.177       0.203\n",
       "JP_Sales             0.1585      0.018      8.674      0.000       0.123       0.194\n",
       "Other_Sales          1.7644      0.029     60.997      0.000       1.708       1.821\n",
       "platforms            0.0109      0.003      3.145      0.002       0.004       0.018\n",
       "Years_of_Release    -0.0037      0.001     -3.559      0.000      -0.006      -0.002\n",
       "Action               0.0046      0.015      0.307      0.759      -0.025       0.034\n",
       "Adventure            0.0363      0.024      1.539      0.124      -0.010       0.083\n",
       "Fighting            -0.0318      0.026     -1.216      0.224      -0.083       0.019\n",
       "Misc                -0.0111      0.022     -0.517      0.605      -0.053       0.031\n",
       "Platform             0.0095      0.025      0.373      0.709      -0.040       0.059\n",
       "Puzzle               0.0021      0.027      0.076      0.940      -0.052       0.056\n",
       "Racing               0.0204      0.021      0.959      0.338      -0.021       0.062\n",
       "Role-Playing        -0.0239      0.018     -1.292      0.196      -0.060       0.012\n",
       "Shooter              0.0101      0.021      0.486      0.627      -0.031       0.051\n",
       "Simulation           0.0211      0.023      0.916      0.360      -0.024       0.066\n",
       "Sports              -0.0513      0.018     -2.789      0.005      -0.087      -0.015\n",
       "Strategy             0.0299      0.026      1.169      0.242      -0.020       0.080\n",
       "==============================================================================\n",
       "Omnibus:                     6247.218   Durbin-Watson:                   2.005\n",
       "Prob(Omnibus):                  0.000   Jarque-Bera (JB):         22636572.137\n",
       "Skew:                          -7.465   Prob(JB):                         0.00\n",
       "Kurtosis:                     355.395   Cond. No.                     7.27e+16\n",
       "==============================================================================\n",
       "\n",
       "Notes:\n",
       "[1] Standard Errors assume that the covariance matrix of the errors is correctly specified.\n",
       "[2] The smallest eigenvalue is 1.49e-28. This might indicate that there are\n",
       "strong multicollinearity problems or that the design matrix is singular.\n",
       "\"\"\""
      ]
     },
     "execution_count": 112,
     "metadata": {},
     "output_type": "execute_result"
    }
   ],
   "source": [
    "ols2 = sm.OLS(y2_train, X6_train)\n",
    "ols2_result = ols2.fit()\n",
    "ols2_result.summary()"
   ]
  },
  {
   "cell_type": "markdown",
   "metadata": {},
   "source": [
    "## Japan Sales"
   ]
  },
  {
   "cell_type": "code",
   "execution_count": 113,
   "metadata": {},
   "outputs": [
    {
     "name": "stdout",
     "output_type": "stream",
     "text": [
      "(4367, 18) (4367,) (1872, 18) (1872,)\n"
     ]
    }
   ],
   "source": [
    "X7_train, X7_test, y3_train, y3_test = train_test_split(X7, y3, test_size = 0.3, random_state=2)\n",
    "print(X7_train.shape, y3_train.shape, X7_test.shape, y3_test.shape)"
   ]
  },
  {
   "cell_type": "code",
   "execution_count": 114,
   "metadata": {},
   "outputs": [
    {
     "data": {
      "text/html": [
       "<table class=\"simpletable\">\n",
       "<caption>OLS Regression Results</caption>\n",
       "<tr>\n",
       "  <th>Dep. Variable:</th>        <td>JP_Sales</td>     <th>  R-squared:         </th> <td>   0.234</td> \n",
       "</tr>\n",
       "<tr>\n",
       "  <th>Model:</th>                   <td>OLS</td>       <th>  Adj. R-squared:    </th> <td>   0.231</td> \n",
       "</tr>\n",
       "<tr>\n",
       "  <th>Method:</th>             <td>Least Squares</td>  <th>  F-statistic:       </th> <td>   82.83</td> \n",
       "</tr>\n",
       "<tr>\n",
       "  <th>Date:</th>             <td>Tue, 13 Jul 2021</td> <th>  Prob (F-statistic):</th> <td>1.07e-236</td>\n",
       "</tr>\n",
       "<tr>\n",
       "  <th>Time:</th>                 <td>16:08:20</td>     <th>  Log-Likelihood:    </th> <td> -1489.1</td> \n",
       "</tr>\n",
       "<tr>\n",
       "  <th>No. Observations:</th>      <td>  4367</td>      <th>  AIC:               </th> <td>   3012.</td> \n",
       "</tr>\n",
       "<tr>\n",
       "  <th>Df Residuals:</th>          <td>  4350</td>      <th>  BIC:               </th> <td>   3121.</td> \n",
       "</tr>\n",
       "<tr>\n",
       "  <th>Df Model:</th>              <td>    16</td>      <th>                     </th>     <td> </td>    \n",
       "</tr>\n",
       "<tr>\n",
       "  <th>Covariance Type:</th>      <td>nonrobust</td>    <th>                     </th>     <td> </td>    \n",
       "</tr>\n",
       "</table>\n",
       "<table class=\"simpletable\">\n",
       "<tr>\n",
       "          <td></td>            <th>coef</th>     <th>std err</th>      <th>t</th>      <th>P>|t|</th>  <th>[0.025</th>    <th>0.975]</th>  \n",
       "</tr>\n",
       "<tr>\n",
       "  <th>const</th>            <td>   -0.0203</td> <td>    0.011</td> <td>   -1.800</td> <td> 0.072</td> <td>   -0.042</td> <td>    0.002</td>\n",
       "</tr>\n",
       "<tr>\n",
       "  <th>EU_Sales</th>         <td>    0.1073</td> <td>    0.012</td> <td>    8.674</td> <td> 0.000</td> <td>    0.083</td> <td>    0.132</td>\n",
       "</tr>\n",
       "<tr>\n",
       "  <th>NA_Sales</th>         <td>    0.0769</td> <td>    0.006</td> <td>   13.269</td> <td> 0.000</td> <td>    0.066</td> <td>    0.088</td>\n",
       "</tr>\n",
       "<tr>\n",
       "  <th>Other_Sales</th>      <td>   -0.1475</td> <td>    0.032</td> <td>   -4.563</td> <td> 0.000</td> <td>   -0.211</td> <td>   -0.084</td>\n",
       "</tr>\n",
       "<tr>\n",
       "  <th>platforms</th>        <td>   -0.0059</td> <td>    0.003</td> <td>   -2.089</td> <td> 0.037</td> <td>   -0.012</td> <td>   -0.000</td>\n",
       "</tr>\n",
       "<tr>\n",
       "  <th>Years_of_Release</th> <td>    0.0076</td> <td>    0.001</td> <td>    8.880</td> <td> 0.000</td> <td>    0.006</td> <td>    0.009</td>\n",
       "</tr>\n",
       "<tr>\n",
       "  <th>Action</th>           <td>   -0.0285</td> <td>    0.012</td> <td>   -2.299</td> <td> 0.022</td> <td>   -0.053</td> <td>   -0.004</td>\n",
       "</tr>\n",
       "<tr>\n",
       "  <th>Adventure</th>        <td>   -0.0207</td> <td>    0.019</td> <td>   -1.065</td> <td> 0.287</td> <td>   -0.059</td> <td>    0.017</td>\n",
       "</tr>\n",
       "<tr>\n",
       "  <th>Fighting</th>         <td>   -0.0101</td> <td>    0.022</td> <td>   -0.470</td> <td> 0.638</td> <td>   -0.052</td> <td>    0.032</td>\n",
       "</tr>\n",
       "<tr>\n",
       "  <th>Misc</th>             <td>   -0.0444</td> <td>    0.018</td> <td>   -2.502</td> <td> 0.012</td> <td>   -0.079</td> <td>   -0.010</td>\n",
       "</tr>\n",
       "<tr>\n",
       "  <th>Platform</th>         <td>    0.1102</td> <td>    0.021</td> <td>    5.283</td> <td> 0.000</td> <td>    0.069</td> <td>    0.151</td>\n",
       "</tr>\n",
       "<tr>\n",
       "  <th>Puzzle</th>           <td>    0.0472</td> <td>    0.023</td> <td>    2.096</td> <td> 0.036</td> <td>    0.003</td> <td>    0.091</td>\n",
       "</tr>\n",
       "<tr>\n",
       "  <th>Racing</th>           <td>   -0.0407</td> <td>    0.018</td> <td>   -2.326</td> <td> 0.020</td> <td>   -0.075</td> <td>   -0.006</td>\n",
       "</tr>\n",
       "<tr>\n",
       "  <th>Role-Playing</th>     <td>    0.1678</td> <td>    0.015</td> <td>   11.192</td> <td> 0.000</td> <td>    0.138</td> <td>    0.197</td>\n",
       "</tr>\n",
       "<tr>\n",
       "  <th>Shooter</th>          <td>   -0.1030</td> <td>    0.017</td> <td>   -6.056</td> <td> 0.000</td> <td>   -0.136</td> <td>   -0.070</td>\n",
       "</tr>\n",
       "<tr>\n",
       "  <th>Simulation</th>       <td>    0.0203</td> <td>    0.019</td> <td>    1.070</td> <td> 0.285</td> <td>   -0.017</td> <td>    0.057</td>\n",
       "</tr>\n",
       "<tr>\n",
       "  <th>Sports</th>           <td>   -0.0766</td> <td>    0.015</td> <td>   -5.069</td> <td> 0.000</td> <td>   -0.106</td> <td>   -0.047</td>\n",
       "</tr>\n",
       "<tr>\n",
       "  <th>Strategy</th>         <td>   -0.0418</td> <td>    0.021</td> <td>   -1.987</td> <td> 0.047</td> <td>   -0.083</td> <td>   -0.001</td>\n",
       "</tr>\n",
       "</table>\n",
       "<table class=\"simpletable\">\n",
       "<tr>\n",
       "  <th>Omnibus:</th>       <td>5283.206</td> <th>  Durbin-Watson:     </th>  <td>   2.015</td> \n",
       "</tr>\n",
       "<tr>\n",
       "  <th>Prob(Omnibus):</th>  <td> 0.000</td>  <th>  Jarque-Bera (JB):  </th> <td>814656.940</td>\n",
       "</tr>\n",
       "<tr>\n",
       "  <th>Skew:</th>           <td> 6.394</td>  <th>  Prob(JB):          </th>  <td>    0.00</td> \n",
       "</tr>\n",
       "<tr>\n",
       "  <th>Kurtosis:</th>       <td>68.678</td>  <th>  Cond. No.          </th>  <td>4.42e+16</td> \n",
       "</tr>\n",
       "</table><br/><br/>Notes:<br/>[1] Standard Errors assume that the covariance matrix of the errors is correctly specified.<br/>[2] The smallest eigenvalue is 4.03e-28. This might indicate that there are<br/>strong multicollinearity problems or that the design matrix is singular."
      ],
      "text/plain": [
       "<class 'statsmodels.iolib.summary.Summary'>\n",
       "\"\"\"\n",
       "                            OLS Regression Results                            \n",
       "==============================================================================\n",
       "Dep. Variable:               JP_Sales   R-squared:                       0.234\n",
       "Model:                            OLS   Adj. R-squared:                  0.231\n",
       "Method:                 Least Squares   F-statistic:                     82.83\n",
       "Date:                Tue, 13 Jul 2021   Prob (F-statistic):          1.07e-236\n",
       "Time:                        16:08:20   Log-Likelihood:                -1489.1\n",
       "No. Observations:                4367   AIC:                             3012.\n",
       "Df Residuals:                    4350   BIC:                             3121.\n",
       "Df Model:                          16                                         \n",
       "Covariance Type:            nonrobust                                         \n",
       "====================================================================================\n",
       "                       coef    std err          t      P>|t|      [0.025      0.975]\n",
       "------------------------------------------------------------------------------------\n",
       "const               -0.0203      0.011     -1.800      0.072      -0.042       0.002\n",
       "EU_Sales             0.1073      0.012      8.674      0.000       0.083       0.132\n",
       "NA_Sales             0.0769      0.006     13.269      0.000       0.066       0.088\n",
       "Other_Sales         -0.1475      0.032     -4.563      0.000      -0.211      -0.084\n",
       "platforms           -0.0059      0.003     -2.089      0.037      -0.012      -0.000\n",
       "Years_of_Release     0.0076      0.001      8.880      0.000       0.006       0.009\n",
       "Action              -0.0285      0.012     -2.299      0.022      -0.053      -0.004\n",
       "Adventure           -0.0207      0.019     -1.065      0.287      -0.059       0.017\n",
       "Fighting            -0.0101      0.022     -0.470      0.638      -0.052       0.032\n",
       "Misc                -0.0444      0.018     -2.502      0.012      -0.079      -0.010\n",
       "Platform             0.1102      0.021      5.283      0.000       0.069       0.151\n",
       "Puzzle               0.0472      0.023      2.096      0.036       0.003       0.091\n",
       "Racing              -0.0407      0.018     -2.326      0.020      -0.075      -0.006\n",
       "Role-Playing         0.1678      0.015     11.192      0.000       0.138       0.197\n",
       "Shooter             -0.1030      0.017     -6.056      0.000      -0.136      -0.070\n",
       "Simulation           0.0203      0.019      1.070      0.285      -0.017       0.057\n",
       "Sports              -0.0766      0.015     -5.069      0.000      -0.106      -0.047\n",
       "Strategy            -0.0418      0.021     -1.987      0.047      -0.083      -0.001\n",
       "==============================================================================\n",
       "Omnibus:                     5283.206   Durbin-Watson:                   2.015\n",
       "Prob(Omnibus):                  0.000   Jarque-Bera (JB):           814656.940\n",
       "Skew:                           6.394   Prob(JB):                         0.00\n",
       "Kurtosis:                      68.678   Cond. No.                     4.42e+16\n",
       "==============================================================================\n",
       "\n",
       "Notes:\n",
       "[1] Standard Errors assume that the covariance matrix of the errors is correctly specified.\n",
       "[2] The smallest eigenvalue is 4.03e-28. This might indicate that there are\n",
       "strong multicollinearity problems or that the design matrix is singular.\n",
       "\"\"\""
      ]
     },
     "execution_count": 114,
     "metadata": {},
     "output_type": "execute_result"
    }
   ],
   "source": [
    "ols3 = sm.OLS(y3_train, X7_train)\n",
    "ols3_result = ols3.fit()\n",
    "ols3_result.summary()"
   ]
  },
  {
   "cell_type": "markdown",
   "metadata": {},
   "source": [
    "## Other Sales"
   ]
  },
  {
   "cell_type": "code",
   "execution_count": 115,
   "metadata": {},
   "outputs": [
    {
     "name": "stdout",
     "output_type": "stream",
     "text": [
      "(4367, 18) (4367,) (1872, 18) (1872,)\n"
     ]
    }
   ],
   "source": [
    "X8_train, X8_test, y4_train, y4_test = train_test_split(X8, y4, test_size = 0.3, random_state=2)\n",
    "print(X8_train.shape, y4_train.shape, X8_test.shape, y4_test.shape)"
   ]
  },
  {
   "cell_type": "code",
   "execution_count": 116,
   "metadata": {},
   "outputs": [
    {
     "data": {
      "text/html": [
       "<table class=\"simpletable\">\n",
       "<caption>OLS Regression Results</caption>\n",
       "<tr>\n",
       "  <th>Dep. Variable:</th>       <td>Other_Sales</td>   <th>  R-squared:         </th> <td>   0.778</td>\n",
       "</tr>\n",
       "<tr>\n",
       "  <th>Model:</th>                   <td>OLS</td>       <th>  Adj. R-squared:    </th> <td>   0.777</td>\n",
       "</tr>\n",
       "<tr>\n",
       "  <th>Method:</th>             <td>Least Squares</td>  <th>  F-statistic:       </th> <td>   953.3</td>\n",
       "</tr>\n",
       "<tr>\n",
       "  <th>Date:</th>             <td>Tue, 13 Jul 2021</td> <th>  Prob (F-statistic):</th>  <td>  0.00</td> \n",
       "</tr>\n",
       "<tr>\n",
       "  <th>Time:</th>                 <td>16:08:34</td>     <th>  Log-Likelihood:    </th> <td>  1828.6</td>\n",
       "</tr>\n",
       "<tr>\n",
       "  <th>No. Observations:</th>      <td>  4367</td>      <th>  AIC:               </th> <td>  -3623.</td>\n",
       "</tr>\n",
       "<tr>\n",
       "  <th>Df Residuals:</th>          <td>  4350</td>      <th>  BIC:               </th> <td>  -3515.</td>\n",
       "</tr>\n",
       "<tr>\n",
       "  <th>Df Model:</th>              <td>    16</td>      <th>                     </th>     <td> </td>   \n",
       "</tr>\n",
       "<tr>\n",
       "  <th>Covariance Type:</th>      <td>nonrobust</td>    <th>                     </th>     <td> </td>   \n",
       "</tr>\n",
       "</table>\n",
       "<table class=\"simpletable\">\n",
       "<tr>\n",
       "          <td></td>            <th>coef</th>     <th>std err</th>      <th>t</th>      <th>P>|t|</th>  <th>[0.025</th>    <th>0.975]</th>  \n",
       "</tr>\n",
       "<tr>\n",
       "  <th>const</th>            <td>    0.0297</td> <td>    0.005</td> <td>    5.633</td> <td> 0.000</td> <td>    0.019</td> <td>    0.040</td>\n",
       "</tr>\n",
       "<tr>\n",
       "  <th>EU_Sales</th>         <td>    0.2613</td> <td>    0.004</td> <td>   60.997</td> <td> 0.000</td> <td>    0.253</td> <td>    0.270</td>\n",
       "</tr>\n",
       "<tr>\n",
       "  <th>NA_Sales</th>         <td>    0.0374</td> <td>    0.003</td> <td>   13.791</td> <td> 0.000</td> <td>    0.032</td> <td>    0.043</td>\n",
       "</tr>\n",
       "<tr>\n",
       "  <th>JP_Sales</th>         <td>   -0.0323</td> <td>    0.007</td> <td>   -4.563</td> <td> 0.000</td> <td>   -0.046</td> <td>   -0.018</td>\n",
       "</tr>\n",
       "<tr>\n",
       "  <th>platforms</th>        <td>    0.0004</td> <td>    0.001</td> <td>    0.272</td> <td> 0.786</td> <td>   -0.002</td> <td>    0.003</td>\n",
       "</tr>\n",
       "<tr>\n",
       "  <th>Years_of_Release</th> <td>   -0.0028</td> <td>    0.000</td> <td>   -7.059</td> <td> 0.000</td> <td>   -0.004</td> <td>   -0.002</td>\n",
       "</tr>\n",
       "<tr>\n",
       "  <th>Action</th>           <td>    0.0096</td> <td>    0.006</td> <td>    1.655</td> <td> 0.098</td> <td>   -0.002</td> <td>    0.021</td>\n",
       "</tr>\n",
       "<tr>\n",
       "  <th>Adventure</th>        <td>   -0.0129</td> <td>    0.009</td> <td>   -1.423</td> <td> 0.155</td> <td>   -0.031</td> <td>    0.005</td>\n",
       "</tr>\n",
       "<tr>\n",
       "  <th>Fighting</th>         <td>    0.0106</td> <td>    0.010</td> <td>    1.053</td> <td> 0.293</td> <td>   -0.009</td> <td>    0.030</td>\n",
       "</tr>\n",
       "<tr>\n",
       "  <th>Misc</th>             <td>    0.0033</td> <td>    0.008</td> <td>    0.396</td> <td> 0.692</td> <td>   -0.013</td> <td>    0.020</td>\n",
       "</tr>\n",
       "<tr>\n",
       "  <th>Platform</th>         <td>   -0.0256</td> <td>    0.010</td> <td>   -2.614</td> <td> 0.009</td> <td>   -0.045</td> <td>   -0.006</td>\n",
       "</tr>\n",
       "<tr>\n",
       "  <th>Puzzle</th>           <td>   -0.0047</td> <td>    0.011</td> <td>   -0.448</td> <td> 0.654</td> <td>   -0.025</td> <td>    0.016</td>\n",
       "</tr>\n",
       "<tr>\n",
       "  <th>Racing</th>           <td>    0.0261</td> <td>    0.008</td> <td>    3.194</td> <td> 0.001</td> <td>    0.010</td> <td>    0.042</td>\n",
       "</tr>\n",
       "<tr>\n",
       "  <th>Role-Playing</th>     <td>    0.0085</td> <td>    0.007</td> <td>    1.192</td> <td> 0.233</td> <td>   -0.005</td> <td>    0.022</td>\n",
       "</tr>\n",
       "<tr>\n",
       "  <th>Shooter</th>          <td>    0.0022</td> <td>    0.008</td> <td>    0.281</td> <td> 0.778</td> <td>   -0.013</td> <td>    0.018</td>\n",
       "</tr>\n",
       "<tr>\n",
       "  <th>Simulation</th>       <td>   -0.0051</td> <td>    0.009</td> <td>   -0.572</td> <td> 0.568</td> <td>   -0.022</td> <td>    0.012</td>\n",
       "</tr>\n",
       "<tr>\n",
       "  <th>Sports</th>           <td>    0.0264</td> <td>    0.007</td> <td>    3.730</td> <td> 0.000</td> <td>    0.013</td> <td>    0.040</td>\n",
       "</tr>\n",
       "<tr>\n",
       "  <th>Strategy</th>         <td>   -0.0088</td> <td>    0.010</td> <td>   -0.893</td> <td> 0.372</td> <td>   -0.028</td> <td>    0.011</td>\n",
       "</tr>\n",
       "</table>\n",
       "<table class=\"simpletable\">\n",
       "<tr>\n",
       "  <th>Omnibus:</th>       <td>10706.387</td> <th>  Durbin-Watson:     </th>   <td>   1.976</td>   \n",
       "</tr>\n",
       "<tr>\n",
       "  <th>Prob(Omnibus):</th>  <td> 0.000</td>   <th>  Jarque-Bera (JB):  </th> <td>227365702.500</td>\n",
       "</tr>\n",
       "<tr>\n",
       "  <th>Skew:</th>           <td>25.381</td>   <th>  Prob(JB):          </th>   <td>    0.00</td>   \n",
       "</tr>\n",
       "<tr>\n",
       "  <th>Kurtosis:</th>      <td>1119.679</td>  <th>  Cond. No.          </th>   <td>1.06e+17</td>   \n",
       "</tr>\n",
       "</table><br/><br/>Notes:<br/>[1] Standard Errors assume that the covariance matrix of the errors is correctly specified.<br/>[2] The smallest eigenvalue is 7.06e-29. This might indicate that there are<br/>strong multicollinearity problems or that the design matrix is singular."
      ],
      "text/plain": [
       "<class 'statsmodels.iolib.summary.Summary'>\n",
       "\"\"\"\n",
       "                            OLS Regression Results                            \n",
       "==============================================================================\n",
       "Dep. Variable:            Other_Sales   R-squared:                       0.778\n",
       "Model:                            OLS   Adj. R-squared:                  0.777\n",
       "Method:                 Least Squares   F-statistic:                     953.3\n",
       "Date:                Tue, 13 Jul 2021   Prob (F-statistic):               0.00\n",
       "Time:                        16:08:34   Log-Likelihood:                 1828.6\n",
       "No. Observations:                4367   AIC:                            -3623.\n",
       "Df Residuals:                    4350   BIC:                            -3515.\n",
       "Df Model:                          16                                         \n",
       "Covariance Type:            nonrobust                                         \n",
       "====================================================================================\n",
       "                       coef    std err          t      P>|t|      [0.025      0.975]\n",
       "------------------------------------------------------------------------------------\n",
       "const                0.0297      0.005      5.633      0.000       0.019       0.040\n",
       "EU_Sales             0.2613      0.004     60.997      0.000       0.253       0.270\n",
       "NA_Sales             0.0374      0.003     13.791      0.000       0.032       0.043\n",
       "JP_Sales            -0.0323      0.007     -4.563      0.000      -0.046      -0.018\n",
       "platforms            0.0004      0.001      0.272      0.786      -0.002       0.003\n",
       "Years_of_Release    -0.0028      0.000     -7.059      0.000      -0.004      -0.002\n",
       "Action               0.0096      0.006      1.655      0.098      -0.002       0.021\n",
       "Adventure           -0.0129      0.009     -1.423      0.155      -0.031       0.005\n",
       "Fighting             0.0106      0.010      1.053      0.293      -0.009       0.030\n",
       "Misc                 0.0033      0.008      0.396      0.692      -0.013       0.020\n",
       "Platform            -0.0256      0.010     -2.614      0.009      -0.045      -0.006\n",
       "Puzzle              -0.0047      0.011     -0.448      0.654      -0.025       0.016\n",
       "Racing               0.0261      0.008      3.194      0.001       0.010       0.042\n",
       "Role-Playing         0.0085      0.007      1.192      0.233      -0.005       0.022\n",
       "Shooter              0.0022      0.008      0.281      0.778      -0.013       0.018\n",
       "Simulation          -0.0051      0.009     -0.572      0.568      -0.022       0.012\n",
       "Sports               0.0264      0.007      3.730      0.000       0.013       0.040\n",
       "Strategy            -0.0088      0.010     -0.893      0.372      -0.028       0.011\n",
       "==============================================================================\n",
       "Omnibus:                    10706.387   Durbin-Watson:                   1.976\n",
       "Prob(Omnibus):                  0.000   Jarque-Bera (JB):        227365702.500\n",
       "Skew:                          25.381   Prob(JB):                         0.00\n",
       "Kurtosis:                    1119.679   Cond. No.                     1.06e+17\n",
       "==============================================================================\n",
       "\n",
       "Notes:\n",
       "[1] Standard Errors assume that the covariance matrix of the errors is correctly specified.\n",
       "[2] The smallest eigenvalue is 7.06e-29. This might indicate that there are\n",
       "strong multicollinearity problems or that the design matrix is singular.\n",
       "\"\"\""
      ]
     },
     "execution_count": 116,
     "metadata": {},
     "output_type": "execute_result"
    }
   ],
   "source": [
    "ols4 = sm.OLS(y4_train, X8_train)\n",
    "ols4_result = ols4.fit()\n",
    "ols4_result.summary()"
   ]
  },
  {
   "cell_type": "markdown",
   "metadata": {},
   "source": [
    "# Analysis"
   ]
  },
  {
   "cell_type": "markdown",
   "metadata": {},
   "source": [
    "The OLS models have higher R-Squared coefficients than the normal multiple linear regression models for all regions besides Japan. The resulting R-squared values for the best model for each region are:\n",
    "\n",
    "North America : 0.685,\n",
    "Europe : 0.816,\n",
    "Japan : 0.239,\n",
    "Other : 0.778\n",
    "\n",
    "As expected, Japan's model has low accuracy. During the exploratory data analysis portion of the project, it was evident that Japan's trends were very different from that of all the other regions. To improve on a model to more accurately predict Japan's video game sales, we would need a different approach with more data specific to Japan."
   ]
  },
  {
   "cell_type": "code",
   "execution_count": null,
   "metadata": {},
   "outputs": [],
   "source": []
  }
 ],
 "metadata": {
  "kernelspec": {
   "display_name": "Python 3",
   "language": "python",
   "name": "python3"
  },
  "language_info": {
   "codemirror_mode": {
    "name": "ipython",
    "version": 3
   },
   "file_extension": ".py",
   "mimetype": "text/x-python",
   "name": "python",
   "nbconvert_exporter": "python",
   "pygments_lexer": "ipython3",
   "version": "3.8.5"
  }
 },
 "nbformat": 4,
 "nbformat_minor": 4
}
