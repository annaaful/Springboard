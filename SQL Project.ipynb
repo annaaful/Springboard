{
 "cells": [
  {
   "cell_type": "code",
   "execution_count": null,
   "metadata": {},
   "outputs": [],
   "source": [
    "# /* QUESTIONS \n",
    "\n",
    "# /* Q1: Some of the facilities charge a fee to members, but some do not.\n",
    "# Write a SQL query to produce a list of the names of the facilities that do. */\n",
    "\n",
    "# SELECT name, membercost\n",
    "# FROM Facilities\n",
    "# WHERE membercost > 0 \n",
    "\n",
    "# /* Q2: How many facilities do not charge a fee to members? */\n",
    "\n",
    "# SELECT COUNT(*)\n",
    "# FROM Facilities\n",
    "# WHERE membercost = 0 \n",
    "\n",
    "# /* Q3: Write an SQL query to show a list of facilities that charge a fee to members,\n",
    "# where the fee is less than 20% of the facility's monthly maintenance cost.\n",
    "# Return the facid, facility name, member cost, and monthly maintenance of the\n",
    "# facilities in question. */\n",
    "\n",
    "# SELECT facid, name, membercost, monthlymaintenance\n",
    "# FROM Facilities\n",
    "# WHERE membercost > 0 \n",
    "# AND membercost < 0.2 * monthlymaintenance\n",
    "\n",
    "# /* Q4: Write an SQL query to retrieve the details of facilities with ID 1 and 5.\n",
    "# Try writing the query without using the OR operator. */\n",
    "\n",
    "# SELECT *\n",
    "# FROM Facilities\n",
    "# WHERE facid = 0 OR facid = 5\n",
    "\n",
    "# /* Q5: Produce a list of facilities, with each labelled as\n",
    "# 'cheap' or 'expensive', depending on if their monthly maintenance cost is\n",
    "# more than $100. Return the name and monthly maintenance of the facilities\n",
    "# in question. */\\\n",
    "\n",
    "# SELECT name, monthlymaintenance,\n",
    "# CASE WHEN monthlymaintenance > 100 THEN 'expensive'\n",
    "# \tELSE 'cheap' END as price\n",
    "# FROM Facilities\n",
    "\n",
    "# /* Q6: You'd like to get the first and last name of the last member(s)\n",
    "# who signed up. Try not to use the LIMIT clause for your solution. */\n",
    "\n",
    "# SELECT firstname, surname, joindate\n",
    "# FROM Members\n",
    "# ORDER BY joindate DESC\n",
    "\n",
    "# /* Q7: Produce a list of all members who have used a tennis court.\n",
    "# Include in your output the name of the court, and the name of the member\n",
    "# formatted as a single column. Ensure no duplicate data, and order by\n",
    "# the member name. */\n",
    "\n",
    "# SELECT DISTINCT CONCAT(Members.firstname, ' ', Members.surname) AS member, \n",
    "# Facilities.name AS facility\n",
    "# FROM Members\n",
    "# INNER JOIN Bookings\n",
    "# ON Members.memid = Bookings.memid\n",
    "# INNER JOIN Facilities\n",
    "# ON Bookings.facid = Facilities.facid\n",
    "# WHERE Facilities.name LIKE 'Tennis Court%'\n",
    "# ORDER BY member;\n",
    "\n",
    "\n",
    "# /* Q8: Produce a list of bookings on the day of 2012-09-14 which\n",
    "# will cost the member (or guest) more than $30. Remember that guests have\n",
    "# different costs to members (the listed costs are per half-hour 'slot'), and\n",
    "# the guest user's ID is always 0. Include in your output the name of the\n",
    "# facility, the name of the member formatted as a single column, and the cost.\n",
    "# Order by descending cost, and do not use any subqueries. */\n",
    "\n",
    "# SELECT DISTINCT CONCAT(Members.firstname, ' ', Members.surname) AS member, \n",
    "# Facilities.name AS facility, Facilities.membercost, Facilities.guestcost\n",
    "# FROM Members\n",
    "# INNER JOIN Bookings\n",
    "# ON Members.memid = Bookings.memid\n",
    "# INNER JOIN Facilities\n",
    "# ON Bookings.facid = Facilities.facid\n",
    "# WHERE Bookings.starttime LIKE '2012-09-14%'\n",
    "# AND Facilities.membercost > 30 OR Facilities.guestcost > 30\n",
    "# ORDER BY Facilities.guestcost DESC\n",
    "\n",
    "# /* Q9: This time, produce the same result as in Q8, but using a subquery. */\n",
    "\n",
    "# SELECT DISTINCT CONCAT(Members.firstname, ' ', Members.surname) AS member, \n",
    "# Facilities.name AS facility, Facilities.membercost, Facilities.guestcost\n",
    "# FROM Members\n",
    "# INNER JOIN Bookings\n",
    "# ON Members.memid = Bookings.memid\n",
    "# INNER JOIN Facilities\n",
    "# ON Bookings.facid = Facilities.facid\n",
    "# WHERE Bookings.starttime LIKE '2012-09-14%'\n",
    "# AND Facilities.membercost > 30 OR Facilities.guestcost > 30\n",
    "# ORDER BY Facilities.guestcost DESC\n",
    "\n"
   ]
  },
  {
   "cell_type": "code",
   "execution_count": 2,
   "metadata": {},
   "outputs": [
    {
     "name": "stdout",
     "output_type": "stream",
     "text": [
      "2.6.0\n",
      "2. Query all tasks\n",
      "(0, 'Tennis Court 1', 5, 25, 10000, 200)\n",
      "(1, 'Tennis Court 2', 5, 25, 8000, 200)\n",
      "(2, 'Badminton Court', 0, 15.5, 4000, 50)\n",
      "(3, 'Table Tennis', 0, 5, 320, 10)\n",
      "(4, 'Massage Room 1', 9.9, 80, 4000, 3000)\n",
      "(5, 'Massage Room 2', 9.9, 80, 4000, 3000)\n",
      "(6, 'Squash Court', 3.5, 17.5, 5000, 80)\n",
      "(7, 'Snooker Table', 0, 5, 450, 15)\n",
      "(8, 'Pool Table', 0, 5, 400, 15)\n"
     ]
    }
   ],
   "source": [
    "import sqlite3\n",
    "from sqlite3 import Error\n",
    "\n",
    " \n",
    "def create_connection(db_file):\n",
    "    \"\"\" create a database connection to the SQLite database\n",
    "        specified by the db_file\n",
    "    :param db_file: database file\n",
    "    :return: Connection object or None\n",
    "    \"\"\"\n",
    "    conn = None\n",
    "    try:\n",
    "        conn = sqlite3.connect(db_file)\n",
    "        print(sqlite3.version)\n",
    "    except Error as e:\n",
    "        print(e)\n",
    " \n",
    "    return conn\n",
    "\n",
    " \n",
    "def select_all_tasks(conn):\n",
    "    \"\"\"\n",
    "    Query all rows in the tasks table\n",
    "    :param conn: the Connection object\n",
    "    :return:\n",
    "    \"\"\"\n",
    "    cur = conn.cursor()\n",
    "    \n",
    "    query1 = \"\"\"\n",
    "        SELECT *\n",
    "        FROM FACILITIES\n",
    "        \"\"\"\n",
    "    cur.execute(query1)\n",
    " \n",
    "    rows = cur.fetchall()\n",
    " \n",
    "    for row in rows:\n",
    "        print(row)\n",
    "\n",
    "\n",
    "def main():\n",
    "    database = \"sqlite_db_pythonsqlite.db\"\n",
    " \n",
    "    # create a database connection\n",
    "    conn = create_connection(database)\n",
    "    with conn: \n",
    "        print(\"2. Query all tasks\")\n",
    "        select_all_tasks(conn)\n",
    " \n",
    " \n",
    "if __name__ == '__main__':\n",
    "    main()"
   ]
  },
  {
   "cell_type": "code",
   "execution_count": 3,
   "metadata": {},
   "outputs": [
    {
     "ename": "AttributeError",
     "evalue": "'str' object has no attribute 'cursor'",
     "output_type": "error",
     "traceback": [
      "\u001b[1;31m---------------------------------------------------------------------------\u001b[0m",
      "\u001b[1;31mAttributeError\u001b[0m                            Traceback (most recent call last)",
      "\u001b[1;32m<ipython-input-3-20b7e3a6b3a6>\u001b[0m in \u001b[0;36m<module>\u001b[1;34m\u001b[0m\n\u001b[1;32m----> 1\u001b[1;33m \u001b[0mquery1\u001b[0m \u001b[1;33m=\u001b[0m \u001b[0mselect_all_tasks\u001b[0m\u001b[1;33m(\u001b[0m\u001b[1;34m'SELECT * FROM FACILITIES'\u001b[0m\u001b[1;33m)\u001b[0m\u001b[1;33m\u001b[0m\u001b[1;33m\u001b[0m\u001b[0m\n\u001b[0m",
      "\u001b[1;32m<ipython-input-2-91562f4a15ee>\u001b[0m in \u001b[0;36mselect_all_tasks\u001b[1;34m(conn)\u001b[0m\n\u001b[0;32m     25\u001b[0m     \u001b[1;33m:\u001b[0m\u001b[1;32mreturn\u001b[0m\u001b[1;33m:\u001b[0m\u001b[1;33m\u001b[0m\u001b[1;33m\u001b[0m\u001b[0m\n\u001b[0;32m     26\u001b[0m     \"\"\"\n\u001b[1;32m---> 27\u001b[1;33m     \u001b[0mcur\u001b[0m \u001b[1;33m=\u001b[0m \u001b[0mconn\u001b[0m\u001b[1;33m.\u001b[0m\u001b[0mcursor\u001b[0m\u001b[1;33m(\u001b[0m\u001b[1;33m)\u001b[0m\u001b[1;33m\u001b[0m\u001b[1;33m\u001b[0m\u001b[0m\n\u001b[0m\u001b[0;32m     28\u001b[0m \u001b[1;33m\u001b[0m\u001b[0m\n\u001b[0;32m     29\u001b[0m     query1 = \"\"\"\n",
      "\u001b[1;31mAttributeError\u001b[0m: 'str' object has no attribute 'cursor'"
     ]
    }
   ],
   "source": [
    "query1 = select_all_tasks('SELECT * FROM FACILITIES')"
   ]
  },
  {
   "cell_type": "code",
   "execution_count": 7,
   "metadata": {},
   "outputs": [
    {
     "ename": "SyntaxError",
     "evalue": "invalid syntax (<ipython-input-7-b90222736d88>, line 1)",
     "output_type": "error",
     "traceback": [
      "\u001b[1;36m  File \u001b[1;32m\"<ipython-input-7-b90222736d88>\"\u001b[1;36m, line \u001b[1;32m1\u001b[0m\n\u001b[1;33m    select_all_tasks(SELECT * FROM FACILITIES)\u001b[0m\n\u001b[1;37m                                   ^\u001b[0m\n\u001b[1;31mSyntaxError\u001b[0m\u001b[1;31m:\u001b[0m invalid syntax\n"
     ]
    }
   ],
   "source": [
    "select_all_tasks(SELECT * FROM FACILITIES)"
   ]
  },
  {
   "cell_type": "code",
   "execution_count": 8,
   "metadata": {},
   "outputs": [
    {
     "ename": "NameError",
     "evalue": "name 'conn' is not defined",
     "output_type": "error",
     "traceback": [
      "\u001b[1;31m---------------------------------------------------------------------------\u001b[0m",
      "\u001b[1;31mNameError\u001b[0m                                 Traceback (most recent call last)",
      "\u001b[1;32m<ipython-input-8-ddae60ba9c88>\u001b[0m in \u001b[0;36m<module>\u001b[1;34m\u001b[0m\n\u001b[1;32m----> 1\u001b[1;33m \u001b[0mconn\u001b[0m\u001b[1;33m\u001b[0m\u001b[1;33m\u001b[0m\u001b[0m\n\u001b[0m",
      "\u001b[1;31mNameError\u001b[0m: name 'conn' is not defined"
     ]
    }
   ],
   "source": [
    "conn"
   ]
  },
  {
   "cell_type": "code",
   "execution_count": null,
   "metadata": {},
   "outputs": [],
   "source": []
  }
 ],
 "metadata": {
  "kernelspec": {
   "display_name": "Python 3",
   "language": "python",
   "name": "python3"
  },
  "language_info": {
   "codemirror_mode": {
    "name": "ipython",
    "version": 3
   },
   "file_extension": ".py",
   "mimetype": "text/x-python",
   "name": "python",
   "nbconvert_exporter": "python",
   "pygments_lexer": "ipython3",
   "version": "3.8.5"
  }
 },
 "nbformat": 4,
 "nbformat_minor": 4
}
